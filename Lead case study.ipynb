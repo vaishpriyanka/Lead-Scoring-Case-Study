{
 "cells": [
  {
   "cell_type": "markdown",
   "id": "bdeb73de-bacd-435b-a130-efac86143186",
   "metadata": {},
   "source": [
    "# Project Title: Lead Scoring for X Education"
   ]
  },
  {
   "cell_type": "markdown",
   "id": "8b2bfc98-0710-4c32-adc6-f0838bd79013",
   "metadata": {},
   "source": [
    "### $ 1. Introduction $\n",
    "##### X Education, an online course provider catering to industry professionals, faces a challenge with its lead conversion process. Despite attracting a substantial number of potential customers, the current lead conversion rate stands at approximately 30%. In an effort to significantly improve this rate, X Education aims to implement a lead scoring model to identify and prioritize high-conversion probability leads, commonly referred to as 'Hot Leads.'"
   ]
  },
  {
   "cell_type": "markdown",
   "id": "131592c2-fa2b-496d-b48d-31de4328a667",
   "metadata": {},
   "source": [
    "### $ 2. Problem   Statement $\n",
    "##### The current lead conversion process at X Education involves various stages, from attracting leads through website interactions to engaging with them through calls and emails. However, the conversion rate remains suboptimal. The company wishes to enhance efficiency by developing a lead scoring model that assigns a score to each lead, allowing the sales team to focus efforts on leads with a higher likelihood of conversion."
   ]
  },
  {
   "cell_type": "markdown",
   "id": "810b4a01-8648-4eff-9a7d-fbf60cb1a359",
   "metadata": {},
   "source": [
    "### $ 3. Objective $\n",
    "##### The primary objective of this project is to increase the lead conversion rate from the existing 30% to approximately 80%. This will be achieved by implementing a lead scoring system that evaluates and prioritizes leads based on their conversion potential."
   ]
  },
  {
   "cell_type": "code",
   "execution_count": null,
   "id": "21ba74ff-e381-4667-9296-6b701e65da75",
   "metadata": {},
   "outputs": [],
   "source": []
  },
  {
   "cell_type": "code",
   "execution_count": null,
   "id": "6d7b82c4-6019-4b0c-b596-82c7248b709a",
   "metadata": {},
   "outputs": [],
   "source": []
  },
  {
   "cell_type": "code",
   "execution_count": null,
   "id": "0724db06-fd4a-43ad-a9e0-508b23cf14cc",
   "metadata": {},
   "outputs": [],
   "source": []
  },
  {
   "cell_type": "markdown",
   "id": "c840b99f-3cc4-491c-9f46-2cd334ab8651",
   "metadata": {},
   "source": [
    "### Import Libraries"
   ]
  },
  {
   "cell_type": "code",
   "execution_count": 1,
   "id": "fbe060ef-3a99-48fd-ba25-01e09e9ed7eb",
   "metadata": {},
   "outputs": [],
   "source": [
    "\n",
    "import pandas as pd\n",
    "import numpy as np\n",
    "\n",
    "import matplotlib.pyplot as plt\n",
    "import seaborn as sns\n",
    "\n",
    "\n",
    "from sklearn.cluster import KMeans\n",
    "from sklearn.model_selection import train_test_split\n",
    "from sklearn.preprocessing import StandardScaler\n",
    "import statsmodels.api as sm\n",
    "from sklearn.linear_model import LogisticRegression\n",
    "from sklearn.feature_selection import RFE\n",
    "from statsmodels.stats.outliers_influence import variance_inflation_factor\n",
    "\n",
    "\n",
    "import warnings\n",
    "warnings.filterwarnings('ignore')\n"
   ]
  },
  {
   "cell_type": "markdown",
   "id": "d649cb16-de9e-4938-90ac-82d990d50bb6",
   "metadata": {},
   "source": [
    "### Reading and Understanding Data"
   ]
  },
  {
   "cell_type": "code",
   "execution_count": 2,
   "id": "9aa8b410-50e6-418b-bfd5-39a3110b6115",
   "metadata": {},
   "outputs": [
    {
     "data": {
      "text/html": [
       "<div>\n",
       "<style scoped>\n",
       "    .dataframe tbody tr th:only-of-type {\n",
       "        vertical-align: middle;\n",
       "    }\n",
       "\n",
       "    .dataframe tbody tr th {\n",
       "        vertical-align: top;\n",
       "    }\n",
       "\n",
       "    .dataframe thead th {\n",
       "        text-align: right;\n",
       "    }\n",
       "</style>\n",
       "<table border=\"1\" class=\"dataframe\">\n",
       "  <thead>\n",
       "    <tr style=\"text-align: right;\">\n",
       "      <th></th>\n",
       "      <th>Prospect ID</th>\n",
       "      <th>Lead Number</th>\n",
       "      <th>Lead Origin</th>\n",
       "      <th>Lead Source</th>\n",
       "      <th>Do Not Email</th>\n",
       "      <th>Do Not Call</th>\n",
       "      <th>Converted</th>\n",
       "      <th>TotalVisits</th>\n",
       "      <th>Total Time Spent on Website</th>\n",
       "      <th>Page Views Per Visit</th>\n",
       "      <th>...</th>\n",
       "      <th>Get updates on DM Content</th>\n",
       "      <th>Lead Profile</th>\n",
       "      <th>City</th>\n",
       "      <th>Asymmetrique Activity Index</th>\n",
       "      <th>Asymmetrique Profile Index</th>\n",
       "      <th>Asymmetrique Activity Score</th>\n",
       "      <th>Asymmetrique Profile Score</th>\n",
       "      <th>I agree to pay the amount through cheque</th>\n",
       "      <th>A free copy of Mastering The Interview</th>\n",
       "      <th>Last Notable Activity</th>\n",
       "    </tr>\n",
       "  </thead>\n",
       "  <tbody>\n",
       "    <tr>\n",
       "      <th>0</th>\n",
       "      <td>7927b2df-8bba-4d29-b9a2-b6e0beafe620</td>\n",
       "      <td>660737</td>\n",
       "      <td>API</td>\n",
       "      <td>Olark Chat</td>\n",
       "      <td>No</td>\n",
       "      <td>No</td>\n",
       "      <td>0</td>\n",
       "      <td>0.0</td>\n",
       "      <td>0</td>\n",
       "      <td>0.0</td>\n",
       "      <td>...</td>\n",
       "      <td>No</td>\n",
       "      <td>Select</td>\n",
       "      <td>Select</td>\n",
       "      <td>02.Medium</td>\n",
       "      <td>02.Medium</td>\n",
       "      <td>15.0</td>\n",
       "      <td>15.0</td>\n",
       "      <td>No</td>\n",
       "      <td>No</td>\n",
       "      <td>Modified</td>\n",
       "    </tr>\n",
       "    <tr>\n",
       "      <th>1</th>\n",
       "      <td>2a272436-5132-4136-86fa-dcc88c88f482</td>\n",
       "      <td>660728</td>\n",
       "      <td>API</td>\n",
       "      <td>Organic Search</td>\n",
       "      <td>No</td>\n",
       "      <td>No</td>\n",
       "      <td>0</td>\n",
       "      <td>5.0</td>\n",
       "      <td>674</td>\n",
       "      <td>2.5</td>\n",
       "      <td>...</td>\n",
       "      <td>No</td>\n",
       "      <td>Select</td>\n",
       "      <td>Select</td>\n",
       "      <td>02.Medium</td>\n",
       "      <td>02.Medium</td>\n",
       "      <td>15.0</td>\n",
       "      <td>15.0</td>\n",
       "      <td>No</td>\n",
       "      <td>No</td>\n",
       "      <td>Email Opened</td>\n",
       "    </tr>\n",
       "    <tr>\n",
       "      <th>2</th>\n",
       "      <td>8cc8c611-a219-4f35-ad23-fdfd2656bd8a</td>\n",
       "      <td>660727</td>\n",
       "      <td>Landing Page Submission</td>\n",
       "      <td>Direct Traffic</td>\n",
       "      <td>No</td>\n",
       "      <td>No</td>\n",
       "      <td>1</td>\n",
       "      <td>2.0</td>\n",
       "      <td>1532</td>\n",
       "      <td>2.0</td>\n",
       "      <td>...</td>\n",
       "      <td>No</td>\n",
       "      <td>Potential Lead</td>\n",
       "      <td>Mumbai</td>\n",
       "      <td>02.Medium</td>\n",
       "      <td>01.High</td>\n",
       "      <td>14.0</td>\n",
       "      <td>20.0</td>\n",
       "      <td>No</td>\n",
       "      <td>Yes</td>\n",
       "      <td>Email Opened</td>\n",
       "    </tr>\n",
       "    <tr>\n",
       "      <th>3</th>\n",
       "      <td>0cc2df48-7cf4-4e39-9de9-19797f9b38cc</td>\n",
       "      <td>660719</td>\n",
       "      <td>Landing Page Submission</td>\n",
       "      <td>Direct Traffic</td>\n",
       "      <td>No</td>\n",
       "      <td>No</td>\n",
       "      <td>0</td>\n",
       "      <td>1.0</td>\n",
       "      <td>305</td>\n",
       "      <td>1.0</td>\n",
       "      <td>...</td>\n",
       "      <td>No</td>\n",
       "      <td>Select</td>\n",
       "      <td>Mumbai</td>\n",
       "      <td>02.Medium</td>\n",
       "      <td>01.High</td>\n",
       "      <td>13.0</td>\n",
       "      <td>17.0</td>\n",
       "      <td>No</td>\n",
       "      <td>No</td>\n",
       "      <td>Modified</td>\n",
       "    </tr>\n",
       "    <tr>\n",
       "      <th>4</th>\n",
       "      <td>3256f628-e534-4826-9d63-4a8b88782852</td>\n",
       "      <td>660681</td>\n",
       "      <td>Landing Page Submission</td>\n",
       "      <td>Google</td>\n",
       "      <td>No</td>\n",
       "      <td>No</td>\n",
       "      <td>1</td>\n",
       "      <td>2.0</td>\n",
       "      <td>1428</td>\n",
       "      <td>1.0</td>\n",
       "      <td>...</td>\n",
       "      <td>No</td>\n",
       "      <td>Select</td>\n",
       "      <td>Mumbai</td>\n",
       "      <td>02.Medium</td>\n",
       "      <td>01.High</td>\n",
       "      <td>15.0</td>\n",
       "      <td>18.0</td>\n",
       "      <td>No</td>\n",
       "      <td>No</td>\n",
       "      <td>Modified</td>\n",
       "    </tr>\n",
       "  </tbody>\n",
       "</table>\n",
       "<p>5 rows × 37 columns</p>\n",
       "</div>"
      ],
      "text/plain": [
       "                            Prospect ID  Lead Number              Lead Origin  \\\n",
       "0  7927b2df-8bba-4d29-b9a2-b6e0beafe620       660737                      API   \n",
       "1  2a272436-5132-4136-86fa-dcc88c88f482       660728                      API   \n",
       "2  8cc8c611-a219-4f35-ad23-fdfd2656bd8a       660727  Landing Page Submission   \n",
       "3  0cc2df48-7cf4-4e39-9de9-19797f9b38cc       660719  Landing Page Submission   \n",
       "4  3256f628-e534-4826-9d63-4a8b88782852       660681  Landing Page Submission   \n",
       "\n",
       "      Lead Source Do Not Email Do Not Call  Converted  TotalVisits  \\\n",
       "0      Olark Chat           No          No          0          0.0   \n",
       "1  Organic Search           No          No          0          5.0   \n",
       "2  Direct Traffic           No          No          1          2.0   \n",
       "3  Direct Traffic           No          No          0          1.0   \n",
       "4          Google           No          No          1          2.0   \n",
       "\n",
       "   Total Time Spent on Website  Page Views Per Visit  ...  \\\n",
       "0                            0                   0.0  ...   \n",
       "1                          674                   2.5  ...   \n",
       "2                         1532                   2.0  ...   \n",
       "3                          305                   1.0  ...   \n",
       "4                         1428                   1.0  ...   \n",
       "\n",
       "  Get updates on DM Content    Lead Profile    City  \\\n",
       "0                        No          Select  Select   \n",
       "1                        No          Select  Select   \n",
       "2                        No  Potential Lead  Mumbai   \n",
       "3                        No          Select  Mumbai   \n",
       "4                        No          Select  Mumbai   \n",
       "\n",
       "  Asymmetrique Activity Index Asymmetrique Profile Index  \\\n",
       "0                   02.Medium                  02.Medium   \n",
       "1                   02.Medium                  02.Medium   \n",
       "2                   02.Medium                    01.High   \n",
       "3                   02.Medium                    01.High   \n",
       "4                   02.Medium                    01.High   \n",
       "\n",
       "  Asymmetrique Activity Score Asymmetrique Profile Score  \\\n",
       "0                        15.0                       15.0   \n",
       "1                        15.0                       15.0   \n",
       "2                        14.0                       20.0   \n",
       "3                        13.0                       17.0   \n",
       "4                        15.0                       18.0   \n",
       "\n",
       "  I agree to pay the amount through cheque  \\\n",
       "0                                       No   \n",
       "1                                       No   \n",
       "2                                       No   \n",
       "3                                       No   \n",
       "4                                       No   \n",
       "\n",
       "  A free copy of Mastering The Interview Last Notable Activity  \n",
       "0                                     No              Modified  \n",
       "1                                     No          Email Opened  \n",
       "2                                    Yes          Email Opened  \n",
       "3                                     No              Modified  \n",
       "4                                     No              Modified  \n",
       "\n",
       "[5 rows x 37 columns]"
      ]
     },
     "execution_count": 2,
     "metadata": {},
     "output_type": "execute_result"
    }
   ],
   "source": [
    "data = pd.read_csv(\"C:\\\\Users\\\\Varun\\\\Documents\\\\lead project\\\\leads.csv\")\n",
    "data.head()"
   ]
  },
  {
   "cell_type": "code",
   "execution_count": 3,
   "id": "f183cfa4-626b-429a-8f72-108b40f6daa7",
   "metadata": {},
   "outputs": [
    {
     "data": {
      "text/plain": [
       "(9240, 37)"
      ]
     },
     "execution_count": 3,
     "metadata": {},
     "output_type": "execute_result"
    }
   ],
   "source": [
    "#checking total rows and columns in dataset\n",
    "data.shape"
   ]
  },
  {
   "cell_type": "markdown",
   "id": "be989d3a-ce99-406c-9ae9-6aa4970add92",
   "metadata": {},
   "source": [
    "#### NOTE : The original dataframe has 9240 rows and 37 columns"
   ]
  },
  {
   "cell_type": "code",
   "execution_count": 4,
   "id": "bc6a6458-4a71-457d-b159-fa36cf12e70d",
   "metadata": {},
   "outputs": [
    {
     "name": "stdout",
     "output_type": "stream",
     "text": [
      "<class 'pandas.core.frame.DataFrame'>\n",
      "RangeIndex: 9240 entries, 0 to 9239\n",
      "Data columns (total 37 columns):\n",
      " #   Column                                         Non-Null Count  Dtype  \n",
      "---  ------                                         --------------  -----  \n",
      " 0   Prospect ID                                    9240 non-null   object \n",
      " 1   Lead Number                                    9240 non-null   int64  \n",
      " 2   Lead Origin                                    9240 non-null   object \n",
      " 3   Lead Source                                    9204 non-null   object \n",
      " 4   Do Not Email                                   9240 non-null   object \n",
      " 5   Do Not Call                                    9240 non-null   object \n",
      " 6   Converted                                      9240 non-null   int64  \n",
      " 7   TotalVisits                                    9103 non-null   float64\n",
      " 8   Total Time Spent on Website                    9240 non-null   int64  \n",
      " 9   Page Views Per Visit                           9103 non-null   float64\n",
      " 10  Last Activity                                  9137 non-null   object \n",
      " 11  Country                                        6779 non-null   object \n",
      " 12  Specialization                                 7802 non-null   object \n",
      " 13  How did you hear about X Education             7033 non-null   object \n",
      " 14  What is your current occupation                6550 non-null   object \n",
      " 15  What matters most to you in choosing a course  6531 non-null   object \n",
      " 16  Search                                         9240 non-null   object \n",
      " 17  Magazine                                       9240 non-null   object \n",
      " 18  Newspaper Article                              9240 non-null   object \n",
      " 19  X Education Forums                             9240 non-null   object \n",
      " 20  Newspaper                                      9240 non-null   object \n",
      " 21  Digital Advertisement                          9240 non-null   object \n",
      " 22  Through Recommendations                        9240 non-null   object \n",
      " 23  Receive More Updates About Our Courses         9240 non-null   object \n",
      " 24  Tags                                           5887 non-null   object \n",
      " 25  Lead Quality                                   4473 non-null   object \n",
      " 26  Update me on Supply Chain Content              9240 non-null   object \n",
      " 27  Get updates on DM Content                      9240 non-null   object \n",
      " 28  Lead Profile                                   6531 non-null   object \n",
      " 29  City                                           7820 non-null   object \n",
      " 30  Asymmetrique Activity Index                    5022 non-null   object \n",
      " 31  Asymmetrique Profile Index                     5022 non-null   object \n",
      " 32  Asymmetrique Activity Score                    5022 non-null   float64\n",
      " 33  Asymmetrique Profile Score                     5022 non-null   float64\n",
      " 34  I agree to pay the amount through cheque       9240 non-null   object \n",
      " 35  A free copy of Mastering The Interview         9240 non-null   object \n",
      " 36  Last Notable Activity                          9240 non-null   object \n",
      "dtypes: float64(4), int64(3), object(30)\n",
      "memory usage: 2.6+ MB\n"
     ]
    }
   ],
   "source": [
    "#info check\n",
    "data.info()"
   ]
  },
  {
   "cell_type": "code",
   "execution_count": 5,
   "id": "b5cc1d9d-c217-42b2-9bf2-d431d3344f26",
   "metadata": {},
   "outputs": [
    {
     "data": {
      "text/html": [
       "<div>\n",
       "<style scoped>\n",
       "    .dataframe tbody tr th:only-of-type {\n",
       "        vertical-align: middle;\n",
       "    }\n",
       "\n",
       "    .dataframe tbody tr th {\n",
       "        vertical-align: top;\n",
       "    }\n",
       "\n",
       "    .dataframe thead th {\n",
       "        text-align: right;\n",
       "    }\n",
       "</style>\n",
       "<table border=\"1\" class=\"dataframe\">\n",
       "  <thead>\n",
       "    <tr style=\"text-align: right;\">\n",
       "      <th></th>\n",
       "      <th>Lead Number</th>\n",
       "      <th>Converted</th>\n",
       "      <th>TotalVisits</th>\n",
       "      <th>Total Time Spent on Website</th>\n",
       "      <th>Page Views Per Visit</th>\n",
       "      <th>Asymmetrique Activity Score</th>\n",
       "      <th>Asymmetrique Profile Score</th>\n",
       "    </tr>\n",
       "  </thead>\n",
       "  <tbody>\n",
       "    <tr>\n",
       "      <th>count</th>\n",
       "      <td>9240.000000</td>\n",
       "      <td>9240.000000</td>\n",
       "      <td>9103.000000</td>\n",
       "      <td>9240.000000</td>\n",
       "      <td>9103.000000</td>\n",
       "      <td>5022.000000</td>\n",
       "      <td>5022.000000</td>\n",
       "    </tr>\n",
       "    <tr>\n",
       "      <th>mean</th>\n",
       "      <td>617188.435606</td>\n",
       "      <td>0.385390</td>\n",
       "      <td>3.445238</td>\n",
       "      <td>487.698268</td>\n",
       "      <td>2.362820</td>\n",
       "      <td>14.306252</td>\n",
       "      <td>16.344883</td>\n",
       "    </tr>\n",
       "    <tr>\n",
       "      <th>std</th>\n",
       "      <td>23405.995698</td>\n",
       "      <td>0.486714</td>\n",
       "      <td>4.854853</td>\n",
       "      <td>548.021466</td>\n",
       "      <td>2.161418</td>\n",
       "      <td>1.386694</td>\n",
       "      <td>1.811395</td>\n",
       "    </tr>\n",
       "    <tr>\n",
       "      <th>min</th>\n",
       "      <td>579533.000000</td>\n",
       "      <td>0.000000</td>\n",
       "      <td>0.000000</td>\n",
       "      <td>0.000000</td>\n",
       "      <td>0.000000</td>\n",
       "      <td>7.000000</td>\n",
       "      <td>11.000000</td>\n",
       "    </tr>\n",
       "    <tr>\n",
       "      <th>25%</th>\n",
       "      <td>596484.500000</td>\n",
       "      <td>0.000000</td>\n",
       "      <td>1.000000</td>\n",
       "      <td>12.000000</td>\n",
       "      <td>1.000000</td>\n",
       "      <td>14.000000</td>\n",
       "      <td>15.000000</td>\n",
       "    </tr>\n",
       "    <tr>\n",
       "      <th>50%</th>\n",
       "      <td>615479.000000</td>\n",
       "      <td>0.000000</td>\n",
       "      <td>3.000000</td>\n",
       "      <td>248.000000</td>\n",
       "      <td>2.000000</td>\n",
       "      <td>14.000000</td>\n",
       "      <td>16.000000</td>\n",
       "    </tr>\n",
       "    <tr>\n",
       "      <th>75%</th>\n",
       "      <td>637387.250000</td>\n",
       "      <td>1.000000</td>\n",
       "      <td>5.000000</td>\n",
       "      <td>936.000000</td>\n",
       "      <td>3.000000</td>\n",
       "      <td>15.000000</td>\n",
       "      <td>18.000000</td>\n",
       "    </tr>\n",
       "    <tr>\n",
       "      <th>max</th>\n",
       "      <td>660737.000000</td>\n",
       "      <td>1.000000</td>\n",
       "      <td>251.000000</td>\n",
       "      <td>2272.000000</td>\n",
       "      <td>55.000000</td>\n",
       "      <td>18.000000</td>\n",
       "      <td>20.000000</td>\n",
       "    </tr>\n",
       "  </tbody>\n",
       "</table>\n",
       "</div>"
      ],
      "text/plain": [
       "         Lead Number    Converted  TotalVisits  Total Time Spent on Website  \\\n",
       "count    9240.000000  9240.000000  9103.000000                  9240.000000   \n",
       "mean   617188.435606     0.385390     3.445238                   487.698268   \n",
       "std     23405.995698     0.486714     4.854853                   548.021466   \n",
       "min    579533.000000     0.000000     0.000000                     0.000000   \n",
       "25%    596484.500000     0.000000     1.000000                    12.000000   \n",
       "50%    615479.000000     0.000000     3.000000                   248.000000   \n",
       "75%    637387.250000     1.000000     5.000000                   936.000000   \n",
       "max    660737.000000     1.000000   251.000000                  2272.000000   \n",
       "\n",
       "       Page Views Per Visit  Asymmetrique Activity Score  \\\n",
       "count           9103.000000                  5022.000000   \n",
       "mean               2.362820                    14.306252   \n",
       "std                2.161418                     1.386694   \n",
       "min                0.000000                     7.000000   \n",
       "25%                1.000000                    14.000000   \n",
       "50%                2.000000                    14.000000   \n",
       "75%                3.000000                    15.000000   \n",
       "max               55.000000                    18.000000   \n",
       "\n",
       "       Asymmetrique Profile Score  \n",
       "count                 5022.000000  \n",
       "mean                    16.344883  \n",
       "std                      1.811395  \n",
       "min                     11.000000  \n",
       "25%                     15.000000  \n",
       "50%                     16.000000  \n",
       "75%                     18.000000  \n",
       "max                     20.000000  "
      ]
     },
     "execution_count": 5,
     "metadata": {},
     "output_type": "execute_result"
    }
   ],
   "source": [
    "data.describe()"
   ]
  },
  {
   "cell_type": "code",
   "execution_count": 6,
   "id": "965bc013-7a14-4f28-b25a-20db02077204",
   "metadata": {},
   "outputs": [
    {
     "name": "stdout",
     "output_type": "stream",
     "text": [
      "Duplicate values present :  0\n"
     ]
    }
   ],
   "source": [
    "# check if there are any duplicates present\n",
    "print('Duplicate values present : ',data.duplicated().sum())"
   ]
  },
  {
   "cell_type": "markdown",
   "id": "0e865c28-3d1c-43e5-8e7d-53d2c957dc4c",
   "metadata": {},
   "source": [
    "### EDA on data"
   ]
  },
  {
   "cell_type": "markdown",
   "id": "3ac76aa5-a0c5-4f33-8ece-f595f5c098f3",
   "metadata": {},
   "source": [
    "### Data Cleaning "
   ]
  },
  {
   "cell_type": "markdown",
   "id": "99e8a528-5d61-4c98-a1f4-fcc09471b1cf",
   "metadata": {},
   "source": [
    "#### NOTE: As mentioned in problem statement many of the categorical variables have a level called 'Select' which needs to be handled because it is as good as a null value"
   ]
  },
  {
   "cell_type": "code",
   "execution_count": 7,
   "id": "2e88a49a-1094-4d76-adc9-b97b407372a3",
   "metadata": {},
   "outputs": [
    {
     "name": "stdout",
     "output_type": "stream",
     "text": [
      "['Specialization', 'How did you hear about X Education', 'Lead Profile', 'City']\n"
     ]
    }
   ],
   "source": [
    "# List of columns having 'Select' as value\n",
    "\n",
    "cols_with_select_value = data.columns[data.apply(lambda col: 'Select' in col.values)]\n",
    "\n",
    "print(list(cols_with_select_value))"
   ]
  },
  {
   "cell_type": "code",
   "execution_count": 8,
   "id": "49cb1131-8c60-45bc-80c9-4abce71aab37",
   "metadata": {},
   "outputs": [],
   "source": [
    "# Converting 'Select' values to NaN.\n",
    "data = data.replace('Select', np.nan)"
   ]
  },
  {
   "cell_type": "code",
   "execution_count": 9,
   "id": "adc25016-8dc8-4d7c-be38-562d835cb747",
   "metadata": {},
   "outputs": [
    {
     "name": "stdout",
     "output_type": "stream",
     "text": [
      "[]\n"
     ]
    }
   ],
   "source": [
    "# Checking if all 'Select' values have been handled in the columns\n",
    "cols_with_select_value = data.columns[data.apply(lambda col: 'Select' in col.values)]\n",
    "\n",
    "print(list(cols_with_select_value))"
   ]
  },
  {
   "cell_type": "code",
   "execution_count": null,
   "id": "3a0563b1-14cc-48f4-965e-ae168aa7ae87",
   "metadata": {},
   "outputs": [],
   "source": []
  },
  {
   "cell_type": "code",
   "execution_count": null,
   "id": "7d33b1be-9ee9-4cf7-be33-8a8b3560607f",
   "metadata": {},
   "outputs": [],
   "source": []
  },
  {
   "cell_type": "markdown",
   "id": "a631d3c0-07d6-4ea0-9927-e20305455fbe",
   "metadata": {},
   "source": [
    "##### Checking null values"
   ]
  },
  {
   "cell_type": "code",
   "execution_count": 10,
   "id": "836a656b-9563-4a07-9ce3-1f6191d5d616",
   "metadata": {},
   "outputs": [
    {
     "data": {
      "text/plain": [
       "Prospect ID                                         0\n",
       "Lead Number                                         0\n",
       "Lead Origin                                         0\n",
       "Lead Source                                        36\n",
       "Do Not Email                                        0\n",
       "Do Not Call                                         0\n",
       "Converted                                           0\n",
       "TotalVisits                                       137\n",
       "Total Time Spent on Website                         0\n",
       "Page Views Per Visit                              137\n",
       "Last Activity                                     103\n",
       "Country                                          2461\n",
       "Specialization                                   3380\n",
       "How did you hear about X Education               7250\n",
       "What is your current occupation                  2690\n",
       "What matters most to you in choosing a course    2709\n",
       "Search                                              0\n",
       "Magazine                                            0\n",
       "Newspaper Article                                   0\n",
       "X Education Forums                                  0\n",
       "Newspaper                                           0\n",
       "Digital Advertisement                               0\n",
       "Through Recommendations                             0\n",
       "Receive More Updates About Our Courses              0\n",
       "Tags                                             3353\n",
       "Lead Quality                                     4767\n",
       "Update me on Supply Chain Content                   0\n",
       "Get updates on DM Content                           0\n",
       "Lead Profile                                     6855\n",
       "City                                             3669\n",
       "Asymmetrique Activity Index                      4218\n",
       "Asymmetrique Profile Index                       4218\n",
       "Asymmetrique Activity Score                      4218\n",
       "Asymmetrique Profile Score                       4218\n",
       "I agree to pay the amount through cheque            0\n",
       "A free copy of Mastering The Interview              0\n",
       "Last Notable Activity                               0\n",
       "dtype: int64"
      ]
     },
     "execution_count": 10,
     "metadata": {},
     "output_type": "execute_result"
    }
   ],
   "source": [
    "data.isnull().sum()"
   ]
  },
  {
   "cell_type": "code",
   "execution_count": 11,
   "id": "8703772c-c5ca-4eb0-8025-33d580d8d7a1",
   "metadata": {},
   "outputs": [
    {
     "name": "stdout",
     "output_type": "stream",
     "text": [
      "Total columns dropped : 7\n",
      "Name of the columns dropped : ['How did you hear about X Education', 'Lead Quality', 'Lead Profile', 'Asymmetrique Activity Index', 'Asymmetrique Profile Index', 'Asymmetrique Activity Score', 'Asymmetrique Profile Score']\n"
     ]
    }
   ],
   "source": [
    "missing_percentage = (data.isnull().sum() / len(data)) * 100\n",
    "\n",
    "#we will drop the columns with more than 40% missing values present\n",
    "print('Total columns dropped :', len(missing_percentage[missing_percentage > 40].index))\n",
    "print('Name of the columns dropped :',list( missing_percentage[missing_percentage > 40].index))"
   ]
  },
  {
   "cell_type": "code",
   "execution_count": 12,
   "id": "f945ced3-4fbf-45d6-a97c-602c43a2ad37",
   "metadata": {},
   "outputs": [
    {
     "name": "stdout",
     "output_type": "stream",
     "text": [
      "Shape before dropping columns :  (9240, 37)\n"
     ]
    }
   ],
   "source": [
    "print('Shape before dropping columns : ' ,data.shape)"
   ]
  },
  {
   "cell_type": "code",
   "execution_count": 13,
   "id": "b5f86bd1-0c7b-4465-ba22-dbaf024e3e1d",
   "metadata": {},
   "outputs": [],
   "source": [
    "\n",
    "columns_to_drop = missing_percentage[missing_percentage > 40].index\n",
    "data.drop(columns=columns_to_drop, axis=1,inplace =True)"
   ]
  },
  {
   "cell_type": "code",
   "execution_count": 14,
   "id": "07b00830-863a-4840-a13e-59ece48e6727",
   "metadata": {},
   "outputs": [
    {
     "name": "stdout",
     "output_type": "stream",
     "text": [
      "Shape before dropping columns :  (9240, 30)\n"
     ]
    }
   ],
   "source": [
    "print('Shape before dropping columns : ' ,data.shape)"
   ]
  },
  {
   "cell_type": "code",
   "execution_count": 15,
   "id": "c208c3cf-f808-414b-872b-61eea4bf704b",
   "metadata": {},
   "outputs": [
    {
     "data": {
      "text/plain": [
       "City                                             39.707792\n",
       "Specialization                                   36.580087\n",
       "Tags                                             36.287879\n",
       "What matters most to you in choosing a course    29.318182\n",
       "What is your current occupation                  29.112554\n",
       "Country                                          26.634199\n",
       "Page Views Per Visit                              1.482684\n",
       "TotalVisits                                       1.482684\n",
       "Last Activity                                     1.114719\n",
       "Lead Source                                       0.389610\n",
       "Through Recommendations                           0.000000\n",
       "Receive More Updates About Our Courses            0.000000\n",
       "Prospect ID                                       0.000000\n",
       "Newspaper                                         0.000000\n",
       "Update me on Supply Chain Content                 0.000000\n",
       "Get updates on DM Content                         0.000000\n",
       "I agree to pay the amount through cheque          0.000000\n",
       "A free copy of Mastering The Interview            0.000000\n",
       "Digital Advertisement                             0.000000\n",
       "Search                                            0.000000\n",
       "X Education Forums                                0.000000\n",
       "Newspaper Article                                 0.000000\n",
       "Magazine                                          0.000000\n",
       "Lead Number                                       0.000000\n",
       "Total Time Spent on Website                       0.000000\n",
       "Converted                                         0.000000\n",
       "Do Not Call                                       0.000000\n",
       "Do Not Email                                      0.000000\n",
       "Lead Origin                                       0.000000\n",
       "Last Notable Activity                             0.000000\n",
       "dtype: float64"
      ]
     },
     "execution_count": 15,
     "metadata": {},
     "output_type": "execute_result"
    }
   ],
   "source": [
    "# Checking the percentage of null values for remaining columns\n",
    "\n",
    "((data.isnull().sum() / len(data)) * 100).sort_values(ascending=False)"
   ]
  },
  {
   "cell_type": "markdown",
   "id": "d71c2453-0ec2-47fe-bbb5-1e5acb892f98",
   "metadata": {},
   "source": [
    "#### NOTE: There are many columns so we are diving them into 2 parts as \"Categorical' and 'Numerical' .As it will be easy to inspect the data"
   ]
  },
  {
   "cell_type": "code",
   "execution_count": 16,
   "id": "c9b44c2c-5e3f-46a5-b760-9ba85bd02fd8",
   "metadata": {},
   "outputs": [
    {
     "name": "stdout",
     "output_type": "stream",
     "text": [
      "['Prospect ID', 'Lead Origin', 'Lead Source', 'Do Not Email', 'Do Not Call', 'Last Activity', 'Country', 'Specialization', 'What is your current occupation', 'What matters most to you in choosing a course', 'Search', 'Magazine', 'Newspaper Article', 'X Education Forums', 'Newspaper', 'Digital Advertisement', 'Through Recommendations', 'Receive More Updates About Our Courses', 'Tags', 'Update me on Supply Chain Content', 'Get updates on DM Content', 'City', 'I agree to pay the amount through cheque', 'A free copy of Mastering The Interview', 'Last Notable Activity']\n"
     ]
    }
   ],
   "source": [
    "# Select the columns with categorical data type\n",
    "categorical_cols = data.select_dtypes(include=['category', 'object']).columns\n",
    "\n",
    "print(list(categorical_cols))"
   ]
  },
  {
   "cell_type": "code",
   "execution_count": 17,
   "id": "f2b09940-4e9b-4772-8ec4-07c72c815009",
   "metadata": {},
   "outputs": [
    {
     "data": {
      "text/plain": [
       "City                                             39.707792\n",
       "Specialization                                   36.580087\n",
       "Tags                                             36.287879\n",
       "What matters most to you in choosing a course    29.318182\n",
       "What is your current occupation                  29.112554\n",
       "Country                                          26.634199\n",
       "Last Activity                                     1.114719\n",
       "Lead Source                                       0.389610\n",
       "Prospect ID                                       0.000000\n",
       "Through Recommendations                           0.000000\n",
       "A free copy of Mastering The Interview            0.000000\n",
       "I agree to pay the amount through cheque          0.000000\n",
       "Get updates on DM Content                         0.000000\n",
       "Update me on Supply Chain Content                 0.000000\n",
       "Receive More Updates About Our Courses            0.000000\n",
       "Newspaper Article                                 0.000000\n",
       "Digital Advertisement                             0.000000\n",
       "Newspaper                                         0.000000\n",
       "X Education Forums                                0.000000\n",
       "Lead Origin                                       0.000000\n",
       "Magazine                                          0.000000\n",
       "Search                                            0.000000\n",
       "Do Not Call                                       0.000000\n",
       "Do Not Email                                      0.000000\n",
       "Last Notable Activity                             0.000000\n",
       "dtype: float64"
      ]
     },
     "execution_count": 17,
     "metadata": {},
     "output_type": "execute_result"
    }
   ],
   "source": [
    "# Checking for missing values\n",
    "((data[categorical_cols].isnull().sum() / len(data)) * 100).sort_values(ascending=False)"
   ]
  },
  {
   "cell_type": "code",
   "execution_count": 18,
   "id": "bfd26e96-2b6b-410f-810f-bde600c528b0",
   "metadata": {},
   "outputs": [
    {
     "name": "stdout",
     "output_type": "stream",
     "text": [
      "Columns to be inspected :  ['Lead Source', 'Last Activity', 'Country', 'Specialization', 'What is your current occupation', 'What matters most to you in choosing a course', 'Tags', 'City']\n"
     ]
    }
   ],
   "source": [
    "print('Columns to be inspected : ', list(data[categorical_cols].columns[data[categorical_cols].isnull().sum() > 0]))"
   ]
  },
  {
   "cell_type": "markdown",
   "id": "dd5e3664-6def-49af-bb9e-715b74026080",
   "metadata": {},
   "source": [
    "##### NOTE: Checking value counts of the selected columns\n"
   ]
  },
  {
   "cell_type": "code",
   "execution_count": 19,
   "id": "8b6c7f22-dea5-4b89-bb60-1f3d730f00ac",
   "metadata": {},
   "outputs": [
    {
     "data": {
      "text/plain": [
       "Mumbai                         57.835218\n",
       "Thane & Outskirts              13.498474\n",
       "Other Cities                   12.313768\n",
       "Other Cities of Maharashtra     8.203195\n",
       "Other Metro Cities              6.821038\n",
       "Tier II Cities                  1.328307\n",
       "Name: City, dtype: float64"
      ]
     },
     "execution_count": 19,
     "metadata": {},
     "output_type": "execute_result"
    }
   ],
   "source": [
    "#checking value counts of City column\n",
    "data['City'].value_counts(normalize=True)*100"
   ]
  },
  {
   "cell_type": "markdown",
   "id": "fcafd083-c4a9-4fdf-a144-985e04c5b5e1",
   "metadata": {},
   "source": [
    "##### City has 39.71 % missing values. And the value \"Mumbai' holds 57.8% values of this column,imputing missing values with Mumbai will make the data more biased. So City column can be dropped."
   ]
  },
  {
   "cell_type": "code",
   "execution_count": 20,
   "id": "075ec422-2450-43ad-8a81-8b50deb5f360",
   "metadata": {},
   "outputs": [],
   "source": [
    "data.drop('City',inplace=True,axis=1)"
   ]
  },
  {
   "cell_type": "code",
   "execution_count": 21,
   "id": "6e185eaa-60ba-4e5d-afa8-d12e3e4246c4",
   "metadata": {},
   "outputs": [
    {
     "data": {
      "text/plain": [
       "Finance Management                   16.655290\n",
       "Human Resource Management            14.470990\n",
       "Marketing Management                 14.300341\n",
       "Operations Management                 8.583618\n",
       "Business Administration               6.877133\n",
       "IT Projects Management                6.245734\n",
       "Supply Chain Management               5.955631\n",
       "Banking, Investment And Insurance     5.767918\n",
       "Travel and Tourism                    3.464164\n",
       "Media and Advertising                 3.464164\n",
       "International Business                3.037543\n",
       "Healthcare Management                 2.713311\n",
       "Hospitality Management                1.945392\n",
       "E-COMMERCE                            1.911263\n",
       "Retail Management                     1.706485\n",
       "Rural and Agribusiness                1.245734\n",
       "E-Business                            0.972696\n",
       "Services Excellence                   0.682594\n",
       "Name: Specialization, dtype: float64"
      ]
     },
     "execution_count": 21,
     "metadata": {},
     "output_type": "execute_result"
    }
   ],
   "source": [
    "#checking value counts of Specialization column\n",
    "data['Specialization'].value_counts(normalize=True)*100"
   ]
  },
  {
   "cell_type": "markdown",
   "id": "f92f0fd4-3614-46a8-bc6e-276c2c8b4145",
   "metadata": {},
   "source": [
    "##### The 'Specialization' column has 36.58% missing values. But the selected specializations are evenly distributed. So instead of filling in missing values or removing the column, Let's create a new category called 'Others' for unspecified specializations."
   ]
  },
  {
   "cell_type": "code",
   "execution_count": 22,
   "id": "788f3c07-d468-466e-9cbf-995d1c2f6348",
   "metadata": {},
   "outputs": [],
   "source": [
    "data['Specialization'] = data['Specialization'].fillna('Others')"
   ]
  },
  {
   "cell_type": "code",
   "execution_count": 23,
   "id": "673c530a-a0d6-4e52-afd4-687389e6a0e3",
   "metadata": {},
   "outputs": [
    {
     "data": {
      "text/plain": [
       "Others                               36.580087\n",
       "Finance Management                   10.562771\n",
       "Human Resource Management             9.177489\n",
       "Marketing Management                  9.069264\n",
       "Operations Management                 5.443723\n",
       "Business Administration               4.361472\n",
       "IT Projects Management                3.961039\n",
       "Supply Chain Management               3.777056\n",
       "Banking, Investment And Insurance     3.658009\n",
       "Travel and Tourism                    2.196970\n",
       "Media and Advertising                 2.196970\n",
       "International Business                1.926407\n",
       "Healthcare Management                 1.720779\n",
       "Hospitality Management                1.233766\n",
       "E-COMMERCE                            1.212121\n",
       "Retail Management                     1.082251\n",
       "Rural and Agribusiness                0.790043\n",
       "E-Business                            0.616883\n",
       "Services Excellence                   0.432900\n",
       "Name: Specialization, dtype: float64"
      ]
     },
     "execution_count": 23,
     "metadata": {},
     "output_type": "execute_result"
    }
   ],
   "source": [
    "# Checking values again\n",
    "data['Specialization'].value_counts(normalize=True,dropna=False)*100"
   ]
  },
  {
   "cell_type": "code",
   "execution_count": 24,
   "id": "4a966100-8a99-4604-9659-abd993f0e215",
   "metadata": {},
   "outputs": [
    {
     "data": {
      "text/plain": [
       "NaN                                                  36.287879\n",
       "Will revert after reading the email                  22.424242\n",
       "Ringing                                              13.019481\n",
       "Interested in other courses                           5.551948\n",
       "Already a student                                     5.032468\n",
       "Closed by Horizzon                                    3.874459\n",
       "switched off                                          2.597403\n",
       "Busy                                                  2.012987\n",
       "Lost to EINS                                          1.893939\n",
       "Not doing further education                           1.569264\n",
       "Interested  in full time MBA                          1.266234\n",
       "Graduation in progress                                1.201299\n",
       "invalid number                                        0.898268\n",
       "Diploma holder (Not Eligible)                         0.681818\n",
       "wrong number given                                    0.508658\n",
       "opp hangup                                            0.357143\n",
       "number not provided                                   0.292208\n",
       "in touch with EINS                                    0.129870\n",
       "Lost to Others                                        0.075758\n",
       "Still Thinking                                        0.064935\n",
       "Want to take admission but has financial problems     0.064935\n",
       "In confusion whether part time or DLP                 0.054113\n",
       "Interested in Next batch                              0.054113\n",
       "Lateral student                                       0.032468\n",
       "Shall take in the next coming month                   0.021645\n",
       "University not recognized                             0.021645\n",
       "Recognition issue (DEC approval)                      0.010823\n",
       "Name: Tags, dtype: float64"
      ]
     },
     "execution_count": 24,
     "metadata": {},
     "output_type": "execute_result"
    }
   ],
   "source": [
    "#checking value counts of Tags column\n",
    "\n",
    "data['Tags'].value_counts(normalize=True,dropna=False)*100"
   ]
  },
  {
   "cell_type": "markdown",
   "id": "85d6879d-456e-4376-b7c9-f231f712e7f2",
   "metadata": {},
   "source": [
    "##### The 'Tags' column has 36.29% missing values. Since it represents the current status of leads and won't be useful for modeling due to the high percentage of missing data, it's better to drop this column."
   ]
  },
  {
   "cell_type": "code",
   "execution_count": 25,
   "id": "87e2303f-ffba-4df7-99e3-68a172ac7d1f",
   "metadata": {},
   "outputs": [],
   "source": [
    "data.drop('Tags',inplace=True,axis=1)"
   ]
  },
  {
   "cell_type": "code",
   "execution_count": 26,
   "id": "f4adc872-327f-4944-8f19-ae43c9056aa0",
   "metadata": {},
   "outputs": [
    {
     "data": {
      "text/plain": [
       "Better Career Prospects      70.649351\n",
       "NaN                          29.318182\n",
       "Flexibility & Convenience     0.021645\n",
       "Other                         0.010823\n",
       "Name: What matters most to you in choosing a course, dtype: float64"
      ]
     },
     "execution_count": 26,
     "metadata": {},
     "output_type": "execute_result"
    }
   ],
   "source": [
    "#checking value counts of What matters most to you in choosing a course column\n",
    "\n",
    "data['What matters most to you in choosing a course'].value_counts(normalize=True,dropna=False)*100"
   ]
  },
  {
   "cell_type": "markdown",
   "id": "0c370015-e539-4761-b4a9-174c3dc3cc6c",
   "metadata": {},
   "source": [
    "#####  The variable has 29.32% missing values, and 70.65% of customers have selected 'better career prospects'. This extreme skewness makes it less informative, so using this variable may not provide meaningful insights. So this column can be dropped."
   ]
  },
  {
   "cell_type": "code",
   "execution_count": 27,
   "id": "265a3517-edb4-4c54-8ab5-2d77ac2d7c2e",
   "metadata": {},
   "outputs": [],
   "source": [
    "data.drop('What matters most to you in choosing a course',inplace=True,axis=1)"
   ]
  },
  {
   "cell_type": "code",
   "execution_count": 28,
   "id": "53bbffa2-9eeb-4e7c-a56b-6b857515b605",
   "metadata": {},
   "outputs": [
    {
     "data": {
      "text/plain": [
       "Unemployed              60.606061\n",
       "NaN                     29.112554\n",
       "Working Professional     7.640693\n",
       "Student                  2.272727\n",
       "Other                    0.173160\n",
       "Housewife                0.108225\n",
       "Businessman              0.086580\n",
       "Name: What is your current occupation, dtype: float64"
      ]
     },
     "execution_count": 28,
     "metadata": {},
     "output_type": "execute_result"
    }
   ],
   "source": [
    "#checking value counts of What is your current occupation column\n",
    "\n",
    "data['What is your current occupation'].value_counts(normalize=True,dropna=False)*100"
   ]
  },
  {
   "cell_type": "markdown",
   "id": "91401b99-b275-4bcc-b1f5-0f649a5e3e3a",
   "metadata": {},
   "source": [
    "\n",
    "##### We can fill in the missing values with 'Unemployed' since it's the most common category. In the context of our business the column seems too important to drop."
   ]
  },
  {
   "cell_type": "code",
   "execution_count": 29,
   "id": "0a598621-c7d4-42ab-b013-635e7a2be094",
   "metadata": {},
   "outputs": [],
   "source": [
    "data['What is your current occupation'] = data['What is your current occupation'].fillna('Unemployed')"
   ]
  },
  {
   "cell_type": "code",
   "execution_count": 30,
   "id": "2fa572f0-e611-4476-b254-29503c1689ad",
   "metadata": {},
   "outputs": [
    {
     "data": {
      "text/plain": [
       "Unemployed              89.718615\n",
       "Working Professional     7.640693\n",
       "Student                  2.272727\n",
       "Other                    0.173160\n",
       "Housewife                0.108225\n",
       "Businessman              0.086580\n",
       "Name: What is your current occupation, dtype: float64"
      ]
     },
     "execution_count": 30,
     "metadata": {},
     "output_type": "execute_result"
    }
   ],
   "source": [
    "# Checking values again\n",
    "data['What is your current occupation'].value_counts(normalize=True,dropna=False)*100"
   ]
  },
  {
   "cell_type": "code",
   "execution_count": 31,
   "id": "ca3cbcfc-c01c-4c22-a243-ab0e5abe14aa",
   "metadata": {},
   "outputs": [
    {
     "data": {
      "text/plain": [
       "India                   70.259740\n",
       "NaN                     26.634199\n",
       "United States            0.746753\n",
       "United Arab Emirates     0.573593\n",
       "Singapore                0.259740\n",
       "Saudi Arabia             0.227273\n",
       "United Kingdom           0.162338\n",
       "Australia                0.140693\n",
       "Qatar                    0.108225\n",
       "Bahrain                  0.075758\n",
       "Hong Kong                0.075758\n",
       "Oman                     0.064935\n",
       "France                   0.064935\n",
       "unknown                  0.054113\n",
       "Kuwait                   0.043290\n",
       "South Africa             0.043290\n",
       "Canada                   0.043290\n",
       "Nigeria                  0.043290\n",
       "Germany                  0.043290\n",
       "Sweden                   0.032468\n",
       "Philippines              0.021645\n",
       "Uganda                   0.021645\n",
       "Italy                    0.021645\n",
       "Bangladesh               0.021645\n",
       "Netherlands              0.021645\n",
       "Asia/Pacific Region      0.021645\n",
       "China                    0.021645\n",
       "Belgium                  0.021645\n",
       "Ghana                    0.021645\n",
       "Kenya                    0.010823\n",
       "Sri Lanka                0.010823\n",
       "Tanzania                 0.010823\n",
       "Malaysia                 0.010823\n",
       "Liberia                  0.010823\n",
       "Switzerland              0.010823\n",
       "Denmark                  0.010823\n",
       "Russia                   0.010823\n",
       "Vietnam                  0.010823\n",
       "Indonesia                0.010823\n",
       "Name: Country, dtype: float64"
      ]
     },
     "execution_count": 31,
     "metadata": {},
     "output_type": "execute_result"
    }
   ],
   "source": [
    "#checking value counts of Country column\n",
    "\n",
    "data['Country'].value_counts(normalize=True,dropna=False)*100"
   ]
  },
  {
   "cell_type": "markdown",
   "id": "8b72ed89-0109-4af6-80a0-606c1e71ef37",
   "metadata": {},
   "source": [
    "##### As we can see there are 26.63% missing values and 70.06% of the customers are from India. I doesoes not make business sense to impute missing values with India. So Country column can be dropped."
   ]
  },
  {
   "cell_type": "code",
   "execution_count": 32,
   "id": "067afcba-c2ab-442d-a871-f8debad86768",
   "metadata": {},
   "outputs": [],
   "source": [
    "data.drop('Country',inplace=True,axis=1)"
   ]
  },
  {
   "cell_type": "code",
   "execution_count": 33,
   "id": "fb4213e3-7462-47b5-b52d-70ab1a88c799",
   "metadata": {},
   "outputs": [
    {
     "data": {
      "text/plain": [
       "Email Opened                    37.616285\n",
       "SMS Sent                        30.042684\n",
       "Olark Chat Conversation         10.649010\n",
       "Page Visited on Website          7.004487\n",
       "Converted to Lead                4.684251\n",
       "Email Bounced                    3.567911\n",
       "Email Link Clicked               2.922185\n",
       "Form Submitted on Website        1.269563\n",
       "Unreachable                      1.017840\n",
       "Unsubscribed                     0.667615\n",
       "Had a Phone Conversation         0.328335\n",
       "Approached upfront               0.098501\n",
       "View in browser link Clicked     0.065667\n",
       "Email Received                   0.021889\n",
       "Email Marked Spam                0.021889\n",
       "Visited Booth in Tradeshow       0.010945\n",
       "Resubscribed to emails           0.010945\n",
       "Name: Last Activity, dtype: float64"
      ]
     },
     "execution_count": 33,
     "metadata": {},
     "output_type": "execute_result"
    }
   ],
   "source": [
    "# Checking the value counts of Last Activity\n",
    "\n",
    "data['Last Activity'].value_counts(normalize=True)*100"
   ]
  },
  {
   "cell_type": "markdown",
   "id": "4244c3d4-2acd-4de4-82f1-963dfcb69d41",
   "metadata": {},
   "source": [
    "##### We can see that in \"Last Activity\" column some labels have very few records. These will create unnecessary columns when we create dummy variables, so we can group these categories together under \"Others\". "
   ]
  },
  {
   "cell_type": "code",
   "execution_count": 34,
   "id": "35a2507e-a66c-4aff-afb8-8307ad453d8b",
   "metadata": {},
   "outputs": [],
   "source": [
    "data['Last Activity'] = data['Last Activity'].fillna('Email Opened')"
   ]
  },
  {
   "cell_type": "code",
   "execution_count": 35,
   "id": "bdafd57d-158a-44a3-ac81-24a7eeb24011",
   "metadata": {},
   "outputs": [],
   "source": [
    "# Grouping low frequency value levels to Others \n",
    "data['Last Activity'] = data['Last Activity'].replace(['Unreachable','Unsubscribed',\n",
    "                                                               'Had a Phone Conversation', \n",
    "                                                               'Approached upfront',\n",
    "                                                               'View in browser link Clicked',       \n",
    "                                                               'Email Marked Spam',                  \n",
    "                                                               'Email Received','Visited Booth in Tradeshow',\n",
    "                                                               'Resubscribed to emails'],'Others')"
   ]
  },
  {
   "cell_type": "code",
   "execution_count": 36,
   "id": "14c7def5-81fa-4146-99e6-76c113aef09a",
   "metadata": {},
   "outputs": [
    {
     "data": {
      "text/plain": [
       "Email Opened                 38.311688\n",
       "SMS Sent                     29.707792\n",
       "Olark Chat Conversation      10.530303\n",
       "Page Visited on Website       6.926407\n",
       "Converted to Lead             4.632035\n",
       "Email Bounced                 3.528139\n",
       "Email Link Clicked            2.889610\n",
       "Others                        2.218615\n",
       "Form Submitted on Website     1.255411\n",
       "Name: Last Activity, dtype: float64"
      ]
     },
     "execution_count": 36,
     "metadata": {},
     "output_type": "execute_result"
    }
   ],
   "source": [
    "# Checking the value counts of Last Activity again\n",
    "\n",
    "data['Last Activity'].value_counts(normalize=True)*100"
   ]
  },
  {
   "cell_type": "code",
   "execution_count": 37,
   "id": "16785a71-2c83-4ca1-9ecc-33922cb79a96",
   "metadata": {},
   "outputs": [
    {
     "data": {
      "text/plain": [
       "Google               31.160365\n",
       "Direct Traffic       27.629292\n",
       "Olark Chat           19.067797\n",
       "Organic Search       12.538027\n",
       "Reference             5.801825\n",
       "Welingak Website      1.542807\n",
       "Referral Sites        1.358105\n",
       "Facebook              0.597566\n",
       "bing                  0.065189\n",
       "google                0.054324\n",
       "Click2call            0.043459\n",
       "Press_Release         0.021730\n",
       "Social Media          0.021730\n",
       "Live Chat             0.021730\n",
       "youtubechannel        0.010865\n",
       "testone               0.010865\n",
       "Pay per Click Ads     0.010865\n",
       "welearnblog_Home      0.010865\n",
       "WeLearn               0.010865\n",
       "blog                  0.010865\n",
       "NC_EDM                0.010865\n",
       "Name: Lead Source, dtype: float64"
      ]
     },
     "execution_count": 37,
     "metadata": {},
     "output_type": "execute_result"
    }
   ],
   "source": [
    "# Checking the value counts of Lead Source\n",
    "\n",
    "data['Lead Source'].value_counts(normalize=True)*100"
   ]
  },
  {
   "cell_type": "markdown",
   "id": "8877d6ae-79f8-4fd9-a882-f76cd65f72a4",
   "metadata": {},
   "source": [
    "##### We can see that in \"Lead Source\" column some labels have very few records. These will create unnecessary columns when we create dummy variables, so we can group these categories together under \"Others\". "
   ]
  },
  {
   "cell_type": "code",
   "execution_count": 38,
   "id": "e764d952-21b8-4c0a-9034-ddd9889556fc",
   "metadata": {},
   "outputs": [],
   "source": [
    "data['Lead Source'] = data['Lead Source'].replace([\"bing\",\"Click2call\",\"Press_Release\",\n",
    "                                                           \"Social Media\",\"Live Chat\",\"youtubechannel\",\n",
    "                                                           \"testone\",\"Pay per Click Ads\",\"welearnblog_Home\",\n",
    "                                                           \"WeLearn\",\"blog\",\"NC_EDM\"],\"Others\")"
   ]
  },
  {
   "cell_type": "markdown",
   "id": "7235fce7-bbf6-4a8f-a166-559d78204341",
   "metadata": {},
   "source": [
    "##### As we can see we have 'Google' as well as 'google' both in the data, so we can change it to one as 'Google'. After that we can fill the missing values with 'Google'"
   ]
  },
  {
   "cell_type": "code",
   "execution_count": 39,
   "id": "c588b0d1-e6a4-4c0a-a8fc-4b3c576a556a",
   "metadata": {},
   "outputs": [],
   "source": [
    "data['Lead Source'] = data['Lead Source'].replace('google','Google')\n",
    "data['Lead Source'].fillna('Google', inplace = True)"
   ]
  },
  {
   "cell_type": "code",
   "execution_count": 40,
   "id": "56901f05-811e-4f9c-954d-4368951d403d",
   "metadata": {},
   "outputs": [
    {
     "data": {
      "text/plain": [
       "Google              31.482684\n",
       "Direct Traffic      27.521645\n",
       "Olark Chat          18.993506\n",
       "Organic Search      12.489177\n",
       "Reference            5.779221\n",
       "Welingak Website     1.536797\n",
       "Referral Sites       1.352814\n",
       "Facebook             0.595238\n",
       "Others               0.248918\n",
       "Name: Lead Source, dtype: float64"
      ]
     },
     "execution_count": 40,
     "metadata": {},
     "output_type": "execute_result"
    }
   ],
   "source": [
    "# Checking the value counts of Lead Source agai\n",
    "\n",
    "data['Lead Source'].value_counts(normalize=True)*100"
   ]
  },
  {
   "cell_type": "code",
   "execution_count": 41,
   "id": "ecbd667c-8e7b-4ba7-910c-264de572f683",
   "metadata": {},
   "outputs": [
    {
     "data": {
      "text/plain": [
       "Prospect ID                                 0.0\n",
       "X Education Forums                          0.0\n",
       "A free copy of Mastering The Interview      0.0\n",
       "I agree to pay the amount through cheque    0.0\n",
       "Get updates on DM Content                   0.0\n",
       "Update me on Supply Chain Content           0.0\n",
       "Receive More Updates About Our Courses      0.0\n",
       "Through Recommendations                     0.0\n",
       "Digital Advertisement                       0.0\n",
       "Newspaper                                   0.0\n",
       "Newspaper Article                           0.0\n",
       "Lead Origin                                 0.0\n",
       "Magazine                                    0.0\n",
       "Search                                      0.0\n",
       "What is your current occupation             0.0\n",
       "Specialization                              0.0\n",
       "Last Activity                               0.0\n",
       "Do Not Call                                 0.0\n",
       "Do Not Email                                0.0\n",
       "Lead Source                                 0.0\n",
       "Last Notable Activity                       0.0\n",
       "dtype: float64"
      ]
     },
     "execution_count": 41,
     "metadata": {},
     "output_type": "execute_result"
    }
   ],
   "source": [
    "# Checking for missing values in categorical columns again\n",
    "((data[data.select_dtypes(include=['category', 'object']).columns].isnull().sum() / len(data)) * 100).sort_values(ascending=False)"
   ]
  },
  {
   "cell_type": "code",
   "execution_count": null,
   "id": "135c305e-57f3-4530-8ecb-853103d5cc54",
   "metadata": {},
   "outputs": [],
   "source": []
  },
  {
   "cell_type": "code",
   "execution_count": 42,
   "id": "1a840ce9-3438-4c89-80e0-51fdf98b38af",
   "metadata": {},
   "outputs": [
    {
     "name": "stdout",
     "output_type": "stream",
     "text": [
      "['Lead Number', 'Converted', 'TotalVisits', 'Total Time Spent on Website', 'Page Views Per Visit']\n"
     ]
    }
   ],
   "source": [
    "# Select the columns with categorical data type\n",
    "numeric_cols = data.select_dtypes(include=['int', 'float']).columns\n",
    "\n",
    "print(list(numeric_cols))\n"
   ]
  },
  {
   "cell_type": "code",
   "execution_count": 43,
   "id": "5334d5dd-1418-4935-8119-6d215f2ae9bb",
   "metadata": {},
   "outputs": [
    {
     "data": {
      "text/plain": [
       "TotalVisits                    1.482684\n",
       "Page Views Per Visit           1.482684\n",
       "Lead Number                    0.000000\n",
       "Converted                      0.000000\n",
       "Total Time Spent on Website    0.000000\n",
       "dtype: float64"
      ]
     },
     "execution_count": 43,
     "metadata": {},
     "output_type": "execute_result"
    }
   ],
   "source": [
    "# Checking for missing values \n",
    "((data[numeric_cols].isnull().sum() / len(data)) * 100).sort_values(ascending=False)"
   ]
  },
  {
   "cell_type": "code",
   "execution_count": 44,
   "id": "8ab8eb7e-ea10-4129-9170-2b5333f87eb4",
   "metadata": {},
   "outputs": [
    {
     "name": "stdout",
     "output_type": "stream",
     "text": [
      "Columns to be inspected :  ['TotalVisits', 'Page Views Per Visit']\n"
     ]
    }
   ],
   "source": [
    "print('Columns to be inspected : ', list(data[numeric_cols].columns[data[numeric_cols].isnull().sum() > 0]))"
   ]
  },
  {
   "cell_type": "code",
   "execution_count": 45,
   "id": "bbe48bbe-0fc4-43ad-9b1d-3ea030949eb9",
   "metadata": {},
   "outputs": [
    {
     "data": {
      "text/plain": [
       "0.0    2189\n",
       "2.0    1680\n",
       "3.0    1306\n",
       "4.0    1120\n",
       "5.0     783\n",
       "Name: TotalVisits, dtype: int64"
      ]
     },
     "execution_count": 45,
     "metadata": {},
     "output_type": "execute_result"
    }
   ],
   "source": [
    "# Checking the value counts of TotalVisits\n",
    "\n",
    "(data['TotalVisits'].value_counts()).head()"
   ]
  },
  {
   "cell_type": "markdown",
   "id": "cf6a2807-7f7f-4c23-b538-1f3b628509d9",
   "metadata": {},
   "source": [
    "##### TotalVisits missing values to be imputed with mode"
   ]
  },
  {
   "cell_type": "code",
   "execution_count": 46,
   "id": "310408d7-870c-43d6-a029-ff22203a7d77",
   "metadata": {},
   "outputs": [],
   "source": [
    "data['TotalVisits'].fillna(data['TotalVisits'].mode()[0], inplace=True)"
   ]
  },
  {
   "cell_type": "code",
   "execution_count": 47,
   "id": "c1ef4de9-cc75-4a88-8176-9c0732a21e39",
   "metadata": {},
   "outputs": [
    {
     "data": {
      "text/plain": [
       "0.0    2326\n",
       "2.0    1680\n",
       "3.0    1306\n",
       "4.0    1120\n",
       "5.0     783\n",
       "Name: TotalVisits, dtype: int64"
      ]
     },
     "execution_count": 47,
     "metadata": {},
     "output_type": "execute_result"
    }
   ],
   "source": [
    "# Checking the value counts of TotalVisits again\n",
    "\n",
    "(data['TotalVisits'].value_counts()).head()"
   ]
  },
  {
   "cell_type": "code",
   "execution_count": 48,
   "id": "0c23a003-005d-45ff-ba87-0685218c5a87",
   "metadata": {},
   "outputs": [
    {
     "data": {
      "text/plain": [
       "0.0    2189\n",
       "2.0    1795\n",
       "3.0    1196\n",
       "4.0     896\n",
       "1.0     651\n",
       "Name: Page Views Per Visit, dtype: int64"
      ]
     },
     "execution_count": 48,
     "metadata": {},
     "output_type": "execute_result"
    }
   ],
   "source": [
    "# Checking the value counts of Page Views Per Visit\n",
    "\n",
    "(data['Page Views Per Visit'].value_counts()).head()"
   ]
  },
  {
   "cell_type": "markdown",
   "id": "086d40c8-12b6-41eb-97b7-41a1d5fc45ae",
   "metadata": {},
   "source": [
    "##### Page Views Per Visit missing values to be imputed with mode"
   ]
  },
  {
   "cell_type": "code",
   "execution_count": 49,
   "id": "a15feb6f-e895-4f2a-baaa-da75849cd55d",
   "metadata": {},
   "outputs": [],
   "source": [
    "data['Page Views Per Visit'].fillna(data['Page Views Per Visit'].mode()[0], inplace=True)"
   ]
  },
  {
   "cell_type": "code",
   "execution_count": 50,
   "id": "bc3935e5-a105-4c73-8d60-0d413a5441cf",
   "metadata": {},
   "outputs": [
    {
     "data": {
      "text/plain": [
       "0.0    2326\n",
       "2.0    1795\n",
       "3.0    1196\n",
       "4.0     896\n",
       "1.0     651\n",
       "Name: Page Views Per Visit, dtype: int64"
      ]
     },
     "execution_count": 50,
     "metadata": {},
     "output_type": "execute_result"
    }
   ],
   "source": [
    "# Checking the value counts of Page Views Per Visit again\n",
    "\n",
    "(data['Page Views Per Visit'].value_counts()).head()"
   ]
  },
  {
   "cell_type": "code",
   "execution_count": 51,
   "id": "679cb89c-9ca4-4ed6-a904-c87c7a4db326",
   "metadata": {},
   "outputs": [
    {
     "data": {
      "text/plain": [
       "Lead Number                    0.0\n",
       "Converted                      0.0\n",
       "TotalVisits                    0.0\n",
       "Total Time Spent on Website    0.0\n",
       "Page Views Per Visit           0.0\n",
       "dtype: float64"
      ]
     },
     "execution_count": 51,
     "metadata": {},
     "output_type": "execute_result"
    }
   ],
   "source": [
    "# Checking for missing values again\n",
    "((data[data.select_dtypes(include=['int', 'float']).columns].isnull().sum() / len(data)) * 100).sort_values(ascending=False)"
   ]
  },
  {
   "cell_type": "code",
   "execution_count": 52,
   "id": "41a51825-62e2-4f8c-965d-235215bf914f",
   "metadata": {},
   "outputs": [
    {
     "data": {
      "text/plain": [
       "Prospect ID                                 0\n",
       "Lead Number                                 0\n",
       "Lead Origin                                 0\n",
       "Lead Source                                 0\n",
       "Do Not Email                                0\n",
       "Do Not Call                                 0\n",
       "Converted                                   0\n",
       "TotalVisits                                 0\n",
       "Total Time Spent on Website                 0\n",
       "Page Views Per Visit                        0\n",
       "Last Activity                               0\n",
       "Specialization                              0\n",
       "What is your current occupation             0\n",
       "Search                                      0\n",
       "Magazine                                    0\n",
       "Newspaper Article                           0\n",
       "X Education Forums                          0\n",
       "Newspaper                                   0\n",
       "Digital Advertisement                       0\n",
       "Through Recommendations                     0\n",
       "Receive More Updates About Our Courses      0\n",
       "Update me on Supply Chain Content           0\n",
       "Get updates on DM Content                   0\n",
       "I agree to pay the amount through cheque    0\n",
       "A free copy of Mastering The Interview      0\n",
       "Last Notable Activity                       0\n",
       "dtype: int64"
      ]
     },
     "execution_count": 52,
     "metadata": {},
     "output_type": "execute_result"
    }
   ],
   "source": [
    "# Checking for missing values again in main dataframe\n",
    "data.isnull().sum()"
   ]
  },
  {
   "cell_type": "markdown",
   "id": "4cd7412c-c3c9-49f3-a531-561346e1424f",
   "metadata": {},
   "source": [
    "#### Now the dataframe has no missing values present"
   ]
  },
  {
   "cell_type": "code",
   "execution_count": null,
   "id": "1046ebf5-e485-4564-8807-0d85c369aa6f",
   "metadata": {},
   "outputs": [],
   "source": []
  },
  {
   "cell_type": "markdown",
   "id": "e0899011-525f-43e1-abdb-874ffabf1caf",
   "metadata": {},
   "source": [
    "#### Checking if there are columns with one unique value"
   ]
  },
  {
   "cell_type": "code",
   "execution_count": 53,
   "id": "055f0261-6ec2-4b1e-a8e2-94c1fffd1869",
   "metadata": {},
   "outputs": [
    {
     "data": {
      "text/plain": [
       "Prospect ID                                 9240\n",
       "Lead Number                                 9240\n",
       "Lead Origin                                    5\n",
       "Lead Source                                    9\n",
       "Do Not Email                                   2\n",
       "Do Not Call                                    2\n",
       "Converted                                      2\n",
       "TotalVisits                                   41\n",
       "Total Time Spent on Website                 1731\n",
       "Page Views Per Visit                         114\n",
       "Last Activity                                  9\n",
       "Specialization                                19\n",
       "What is your current occupation                6\n",
       "Search                                         2\n",
       "Magazine                                       1\n",
       "Newspaper Article                              2\n",
       "X Education Forums                             2\n",
       "Newspaper                                      2\n",
       "Digital Advertisement                          2\n",
       "Through Recommendations                        2\n",
       "Receive More Updates About Our Courses         1\n",
       "Update me on Supply Chain Content              1\n",
       "Get updates on DM Content                      1\n",
       "I agree to pay the amount through cheque       1\n",
       "A free copy of Mastering The Interview         2\n",
       "Last Notable Activity                         16\n",
       "dtype: int64"
      ]
     },
     "execution_count": 53,
     "metadata": {},
     "output_type": "execute_result"
    }
   ],
   "source": [
    "data.nunique()"
   ]
  },
  {
   "cell_type": "code",
   "execution_count": 54,
   "id": "8a105074-73e6-4950-b254-58f53ef2edbc",
   "metadata": {},
   "outputs": [
    {
     "name": "stdout",
     "output_type": "stream",
     "text": [
      "Columns with only one uniqe value :  ['Magazine', 'Receive More Updates About Our Courses', 'Update me on Supply Chain Content', 'Get updates on DM Content', 'I agree to pay the amount through cheque']\n"
     ]
    }
   ],
   "source": [
    "print('Columns with only one uniqe value : ' , list(data.columns[data.nunique() == 1]))"
   ]
  },
  {
   "cell_type": "markdown",
   "id": "c62cd92e-b7b7-4dae-92b6-5ad834e362a6",
   "metadata": {},
   "source": [
    "#### NOTE:  Dropping columns with onee unique values as they lack variability and provide no meaningful information for analysis or modeling. Such columns do not contribute to the understanding of patterns or relationships within the data"
   ]
  },
  {
   "cell_type": "code",
   "execution_count": 55,
   "id": "85a02a43-680a-40b7-8c78-11a29a4bcf42",
   "metadata": {},
   "outputs": [],
   "source": [
    "data.drop(columns=data.columns[data.nunique() == 1],inplace=True)"
   ]
  },
  {
   "cell_type": "code",
   "execution_count": 56,
   "id": "f1cde179-cdf4-4c09-9789-577b8664bdde",
   "metadata": {},
   "outputs": [
    {
     "name": "stdout",
     "output_type": "stream",
     "text": [
      "The shape of the main dataframe now is : (9240, 21)\n"
     ]
    }
   ],
   "source": [
    "print('The shape of the main dataframe now is :',data.shape)"
   ]
  },
  {
   "cell_type": "markdown",
   "id": "b6884e74-3ec9-41ad-a53c-3bc2d12d390a",
   "metadata": {},
   "source": [
    "#### Dropping columns which are no use for modeling\n",
    "#### such as:\n",
    "\n",
    "1. 'Prospect ID',\n",
    "2. 'Lead Number',\n",
    "3. 'Last Notable Activity'\n",
    "#### Above columns do not add any value to the model. So we can drop them\n"
   ]
  },
  {
   "cell_type": "code",
   "execution_count": 57,
   "id": "60ab4eef-d28a-4d9b-9182-68af544d9dde",
   "metadata": {},
   "outputs": [
    {
     "name": "stdout",
     "output_type": "stream",
     "text": [
      "The shape of the main dataframe now is : (9240, 18)\n"
     ]
    }
   ],
   "source": [
    "data.drop(['Prospect ID', 'Lead Number', 'Last Notable Activity'], inplace=True, axis=1)\n",
    "print('The shape of the main dataframe now is :',data.shape)"
   ]
  },
  {
   "cell_type": "markdown",
   "id": "884fd804-808c-402c-9fbc-7c7b93aa66b5",
   "metadata": {},
   "source": [
    "#### Checking and Dropping Category Columns that are Skewed"
   ]
  },
  {
   "cell_type": "code",
   "execution_count": 58,
   "id": "9bec95ec-4dc1-4b0f-be39-d07372f8bdef",
   "metadata": {},
   "outputs": [
    {
     "data": {
      "image/png": "[encoded data removed]",
      "text/plain": [
       "<Figure size 1500x3000 with 15 Axes>"
      ]
     },
     "metadata": {},
     "output_type": "display_data"
    }
   ],
   "source": [
    "import math\n",
    "n_columns = 3\n",
    "n_rows = math.ceil(len(data.select_dtypes(include=['category', 'object']).columns) / n_columns)\n",
    "sns.set(rc={'figure.figsize': (15, 6 * n_rows)})\n",
    "fig, axes = plt.subplots(n_rows, n_columns)\n",
    "\n",
    "\n",
    "axes = axes.flatten()\n",
    "\n",
    "# Plot countplot for categorical columns\n",
    "for i, column in enumerate(data.select_dtypes(include=['category', 'object']).columns):\n",
    "    ax = axes[i]\n",
    "    sns.countplot(x=column, data=data, ax=ax)\n",
    "    ax.set_title(f'Countplot for {column}')\n",
    "    ax.tick_params(axis='x', rotation=90)\n",
    "\n",
    "\n",
    "plt.subplots_adjust(hspace=1.5, wspace=0.3)  \n",
    "plt.show()\n",
    "\n"
   ]
  },
  {
   "cell_type": "markdown",
   "id": "a5fbff18-5054-4d58-aea5-31d72ee5718e",
   "metadata": {},
   "source": [
    "### We can see there are columnswhich have highly skewed data :\n",
    "  1. Search\n",
    "  2. Newspaper Article\n",
    "  3. Through Recommendations\n",
    "  4. Digital Advertisement\n",
    "  5. Newspaper\n",
    "  6. Do Not Call\n",
    "  7. X Education Forums\n",
    "\n",
    "#### We'll drop these columns as they won't contribute to the model. Skewed variables can affect logistic regression accuracy by causing biased parameter estimates."
   ]
  },
  {
   "cell_type": "code",
   "execution_count": 59,
   "id": "f25413b4-8039-440a-a9ca-dce676eadb96",
   "metadata": {},
   "outputs": [],
   "source": [
    "to_drop =  ['Search','Newspaper Article','Through Recommendations','Digital Advertisement','Newspaper','Do Not Call','X Education Forums']\n",
    "data.drop(columns=to_drop,axis=1,inplace=True)"
   ]
  },
  {
   "cell_type": "code",
   "execution_count": 60,
   "id": "ae61b8d2-8a06-4a3b-b1e3-0a19f284eeb0",
   "metadata": {},
   "outputs": [
    {
     "name": "stdout",
     "output_type": "stream",
     "text": [
      "The shape of the main dataframe now is : (9240, 11)\n"
     ]
    }
   ],
   "source": [
    "print('The shape of the main dataframe now is :',data.shape)"
   ]
  },
  {
   "cell_type": "markdown",
   "id": "91c88ce7-213f-47c3-8467-b0ebc2e7224a",
   "metadata": {},
   "source": [
    "#### Check which columns have 'Yes' or 'No' as values"
   ]
  },
  {
   "cell_type": "code",
   "execution_count": 61,
   "id": "ae088942-3c2b-41e3-88ba-b4c54af21bc6",
   "metadata": {},
   "outputs": [
    {
     "name": "stdout",
     "output_type": "stream",
     "text": [
      "['Do Not Email', 'A free copy of Mastering The Interview']\n"
     ]
    }
   ],
   "source": [
    "\n",
    "yes_no_columns = data.columns[data.apply(lambda col: col.isin(['Yes', 'No']).all())]\n",
    "\n",
    "# Print the list of columns with 'Yes' or 'No' values\n",
    "print(list(yes_no_columns))"
   ]
  },
  {
   "cell_type": "markdown",
   "id": "f21df5a9-73ad-4ede-b6f2-b1c7a4fa644b",
   "metadata": {},
   "source": [
    "####  The are columns categorical columns, map them yes/no to 1/0"
   ]
  },
  {
   "cell_type": "code",
   "execution_count": 62,
   "id": "e2604392-d685-489b-8f00-d00f5ff5b82d",
   "metadata": {},
   "outputs": [],
   "source": [
    "data[yes_no_columns] = data[yes_no_columns].replace({'Yes': 1, 'No': 0})"
   ]
  },
  {
   "cell_type": "code",
   "execution_count": 63,
   "id": "654a330d-0149-4957-8a76-e86c69ca41d1",
   "metadata": {},
   "outputs": [
    {
     "data": {
      "text/plain": [
       "Index([], dtype='object')"
      ]
     },
     "execution_count": 63,
     "metadata": {},
     "output_type": "execute_result"
    }
   ],
   "source": [
    "# Print the list of columns with 'Yes' or 'No' values again to check\n",
    "data.columns[list(data.apply(lambda col: col.isin(['Yes', 'No']).all()))]"
   ]
  },
  {
   "cell_type": "code",
   "execution_count": 64,
   "id": "17b0fea6-b650-4536-82c5-74b6b259df7c",
   "metadata": {},
   "outputs": [
    {
     "name": "stdout",
     "output_type": "stream",
     "text": [
      "<class 'pandas.core.frame.DataFrame'>\n",
      "RangeIndex: 9240 entries, 0 to 9239\n",
      "Data columns (total 11 columns):\n",
      " #   Column                                  Non-Null Count  Dtype  \n",
      "---  ------                                  --------------  -----  \n",
      " 0   Lead Origin                             9240 non-null   object \n",
      " 1   Lead Source                             9240 non-null   object \n",
      " 2   Do Not Email                            9240 non-null   int64  \n",
      " 3   Converted                               9240 non-null   int64  \n",
      " 4   TotalVisits                             9240 non-null   float64\n",
      " 5   Total Time Spent on Website             9240 non-null   int64  \n",
      " 6   Page Views Per Visit                    9240 non-null   float64\n",
      " 7   Last Activity                           9240 non-null   object \n",
      " 8   Specialization                          9240 non-null   object \n",
      " 9   What is your current occupation         9240 non-null   object \n",
      " 10  A free copy of Mastering The Interview  9240 non-null   int64  \n",
      "dtypes: float64(2), int64(4), object(5)\n",
      "memory usage: 794.2+ KB\n"
     ]
    }
   ],
   "source": [
    "# Re checking tht main dataframe info\n",
    "data.info()"
   ]
  },
  {
   "cell_type": "markdown",
   "id": "d2855e86-f259-49e2-abce-6c49286bb37b",
   "metadata": {},
   "source": [
    "### Final Auto EDA"
   ]
  },
  {
   "cell_type": "code",
   "execution_count": 65,
   "id": "47f2ae93-6bd0-4633-ac21-2c3bd0070b92",
   "metadata": {},
   "outputs": [
    {
     "ename": "ModuleNotFoundError",
     "evalue": "No module named 'sweetviz'",
     "output_type": "error",
     "traceback": [
      "\u001b[1;31m---------------------------------------------------------------------------\u001b[0m",
      "\u001b[1;31mModuleNotFoundError\u001b[0m                       Traceback (most recent call last)",
      "Cell \u001b[1;32mIn[65], line 3\u001b[0m\n\u001b[0;32m      1\u001b[0m \u001b[38;5;66;03m#AutoEDA\u001b[39;00m\n\u001b[0;32m      2\u001b[0m \u001b[38;5;28;01mfrom\u001b[39;00m \u001b[38;5;21;01mIPython\u001b[39;00m\u001b[38;5;21;01m.\u001b[39;00m\u001b[38;5;21;01mdisplay\u001b[39;00m \u001b[38;5;28;01mimport\u001b[39;00m IFrame\n\u001b[1;32m----> 3\u001b[0m \u001b[38;5;28;01mimport\u001b[39;00m \u001b[38;5;21;01msweetviz\u001b[39;00m \u001b[38;5;28;01mas\u001b[39;00m \u001b[38;5;21;01msv\u001b[39;00m\n\u001b[0;32m      4\u001b[0m report \u001b[38;5;241m=\u001b[39m sv\u001b[38;5;241m.\u001b[39manalyze(data)\n\u001b[0;32m      5\u001b[0m report\u001b[38;5;241m.\u001b[39mshow_html(\u001b[38;5;124m'\u001b[39m\u001b[38;5;124mreport.html\u001b[39m\u001b[38;5;124m'\u001b[39m)\n",
      "\u001b[1;31mModuleNotFoundError\u001b[0m: No module named 'sweetviz'"
     ]
    }
   ],
   "source": [
    "#AutoEDA\n",
    "from IPython.display import IFrame\n",
    "import sweetviz as sv\n",
    "report = sv.analyze(data)\n",
    "report.show_html('report.html')\n",
    "IFrame(src='report.html', width=1000, height=600)"
   ]
  },
  {
   "cell_type": "code",
   "execution_count": null,
   "id": "f16f1919-6fa1-4040-b53f-abe0f00b92d8",
   "metadata": {},
   "outputs": [],
   "source": [
    "data.info()"
   ]
  },
  {
   "cell_type": "markdown",
   "id": "5f946de0-0658-4567-9d3b-2799b0ad31f2",
   "metadata": {},
   "source": [
    "### Dummy Variable Creation"
   ]
  },
  {
   "cell_type": "code",
   "execution_count": null,
   "id": "7f2b84e8-a9c7-43a4-90d5-4ebf1e70f834",
   "metadata": {},
   "outputs": [],
   "source": [
    "cat_col=data.select_dtypes(include=['object']).columns\n",
    "cat_col"
   ]
  },
  {
   "cell_type": "code",
   "execution_count": null,
   "id": "87108854-6ee3-4aae-a134-9127b7646265",
   "metadata": {},
   "outputs": [],
   "source": [
    "# Creating a dummy variable for the categorical variables and dropping the first one.\n",
    "dummy = pd.get_dummies(data[cat_col], drop_first=True)\n",
    "\n",
    "# now add them to the master dataframe\n",
    "data = pd.concat([data, dummy], axis=1)"
   ]
  },
  {
   "cell_type": "code",
   "execution_count": null,
   "id": "240dadd8-9798-40d7-a3a7-4772343844e4",
   "metadata": {},
   "outputs": [],
   "source": []
  },
  {
   "cell_type": "code",
   "execution_count": null,
   "id": "f5284c62-cf5e-4c70-a69f-017e74164e9e",
   "metadata": {},
   "outputs": [],
   "source": [
    "data.head()"
   ]
  },
  {
   "cell_type": "code",
   "execution_count": null,
   "id": "2dcfa9fc-5cc9-4c8c-ae98-0192829ad36a",
   "metadata": {},
   "outputs": [],
   "source": [
    "# We have created dummies for the categorical variables, so we can drop them\n",
    "\n",
    "data.drop(columns=data.select_dtypes(include='object').columns, inplace=True)"
   ]
  },
  {
   "cell_type": "code",
   "execution_count": null,
   "id": "5c58f2ed-38af-4adb-aeb4-4036f49b73a6",
   "metadata": {},
   "outputs": [],
   "source": [
    "print('The shape of the main dataframe now is :',data.shape)"
   ]
  },
  {
   "cell_type": "markdown",
   "id": "5b9314fb-87ee-4396-94de-c953a6640324",
   "metadata": {},
   "source": [
    "## Train-Test Split"
   ]
  },
  {
   "cell_type": "markdown",
   "id": "7b57b328-2ddd-47fc-a746-81e60a396a10",
   "metadata": {},
   "source": [
    "### Next we split the data into train and test sets"
   ]
  },
  {
   "cell_type": "code",
   "execution_count": null,
   "id": "3ba9c4a7-96bb-405c-af37-d1803e1d9ca9",
   "metadata": {},
   "outputs": [],
   "source": [
    "# Import library\n",
    "\n",
    "from sklearn.model_selection import train_test_split"
   ]
  },
  {
   "cell_type": "code",
   "execution_count": null,
   "id": "f038cc19-9ac2-4c34-b84d-23790597ec23",
   "metadata": {},
   "outputs": [],
   "source": [
    "# Put all the feature variables in X\n",
    "X = data.drop(['Converted'], 1)\n",
    "X.head(1)"
   ]
  },
  {
   "cell_type": "code",
   "execution_count": null,
   "id": "f6d15fcc-b138-4b84-b1fc-c0e99ad13724",
   "metadata": {},
   "outputs": [],
   "source": [
    "# Put the target variable in y\n",
    "\n",
    "y= data['Converted']\n"
   ]
  },
  {
   "cell_type": "code",
   "execution_count": null,
   "id": "d071b091-acb5-40cd-a281-c329d78ecb0e",
   "metadata": {},
   "outputs": [],
   "source": [
    "# Splitting the data into 70 30 ratio\n",
    "\n",
    "X_train, X_test, y_train, y_test = train_test_split(X, y, train_size = 0.7, test_size = 0.3, random_state = 100)"
   ]
  },
  {
   "cell_type": "code",
   "execution_count": null,
   "id": "d3fcfb7e-f26a-4d35-b066-52381bc2ba23",
   "metadata": {},
   "outputs": [],
   "source": [
    "#Checking shapes\n",
    "\n",
    "print('X_train:', X_train.shape,'\\ny_train:',y_train.shape)\n",
    "print('X_test:', X_test.shape,'\\ny_test:',y_test.shape)"
   ]
  },
  {
   "cell_type": "markdown",
   "id": "fe0b6ece-56ef-4fba-a8b9-4be1781b0288",
   "metadata": {},
   "source": [
    "### Scaling:\n",
    "\n",
    "#### There are few variables with difeerent scale present in the data. So we have to scale it"
   ]
  },
  {
   "cell_type": "code",
   "execution_count": null,
   "id": "808a7bc3-aac9-4485-8ae8-c38c7fac25b5",
   "metadata": {},
   "outputs": [],
   "source": [
    "#Import standard scaler\n",
    "from sklearn.preprocessing import StandardScaler\n",
    "\n",
    "scaler = StandardScaler()\n",
    "\n",
    "# fetching int64 and float64 dtype columns from dataframe for scaling\n",
    "num_cols=X_train.select_dtypes(include=['int64','float64']).columns\n",
    "\n",
    "X_train[num_cols] = scaler.fit_transform(X_train[num_cols])"
   ]
  },
  {
   "cell_type": "code",
   "execution_count": null,
   "id": "9035b356-115f-42b6-b5ca-18c0a1c6427c",
   "metadata": {},
   "outputs": [],
   "source": []
  },
  {
   "cell_type": "code",
   "execution_count": null,
   "id": "12d15b10-91a7-4913-b683-c11c13d7d047",
   "metadata": {},
   "outputs": [],
   "source": [
    "X_train.head()"
   ]
  },
  {
   "cell_type": "code",
   "execution_count": null,
   "id": "ecb1fc56-e070-44b9-b66b-340230a81931",
   "metadata": {},
   "outputs": [],
   "source": [
    "# Checking the Lead Conversion Rate (LCR) - \"Converted\" is our Target Variable\n",
    "# We will denote Lead Conversion Rate with 'LCR' as its short form\n",
    "\n",
    "LCR = (sum(data['Converted'])/len(data['Converted'].index))*100\n",
    "LCR"
   ]
  },
  {
   "cell_type": "markdown",
   "id": "becb6ee0-04ce-4415-808d-2b429b9ed50a",
   "metadata": {},
   "source": [
    "##### Conversion Rate is 38.5% "
   ]
  },
  {
   "cell_type": "code",
   "execution_count": null,
   "id": "e3d8635f-8ab4-46dc-80fa-ca151437e5f4",
   "metadata": {},
   "outputs": [],
   "source": [
    "# See the correlation\n",
    "\n",
    "data.corr()"
   ]
  },
  {
   "cell_type": "code",
   "execution_count": null,
   "id": "4e8a5222-4839-4a51-8c2f-207b73ef9c57",
   "metadata": {},
   "outputs": [],
   "source": [
    "# Plotting heatmap to visualize correlations\n",
    "plt.figure(figsize = (25,20))        \n",
    "sns.heatmap(data.corr(),linewidths=0.04,cmap=\"Purples\",annot=True)\n",
    "plt.show()"
   ]
  },
  {
   "cell_type": "code",
   "execution_count": null,
   "id": "ae88274b-49ad-4bd9-af11-119c6e3b1a78",
   "metadata": {},
   "outputs": [],
   "source": [
    "# as the above corelations has so many columns lets breakdown suspected variables which migh have high correlation with each other\n",
    "# analysing variables which might be highly correlated with each other from same class from above graph\n",
    "plt.figure(figsize = (4,4))        \n",
    "sns.heatmap(data[[\"Lead Source_Facebook\",\"Lead Origin_Lead Import\",\"Lead Origin_Lead Add Form\",\"Lead Source_Reference\"]].corr(),linewidths=0.02,cmap=\"Purples\",annot=True)\n",
    "plt.show()"
   ]
  },
  {
   "cell_type": "markdown",
   "id": "4d817c40-80ee-4cb9-942e-25af969dfeeb",
   "metadata": {},
   "source": [
    "##### These predictor variables above are very highly correlated with each other near diagonal with (0.98 and 0.85), it is better that we drop one of these variables from each pair as they won’t add much value to the model. So , we can drop any of them, lets drop 'Lead Origin_Lead Import' and 'Lead Origin_Lead Add Form'.\n"
   ]
  },
  {
   "cell_type": "code",
   "execution_count": null,
   "id": "07cc6b00-8a62-43fc-ba15-b59080e44053",
   "metadata": {},
   "outputs": [],
   "source": [
    "X_test = X_test.drop(['Lead Origin_Lead Import','Lead Origin_Lead Add Form'],1)\n",
    "\n",
    "X_train = X_train.drop(['Lead Origin_Lead Import','Lead Origin_Lead Add Form'],1)"
   ]
  },
  {
   "cell_type": "markdown",
   "id": "38c66b80-e070-410a-a0a3-60df61baeec9",
   "metadata": {},
   "source": [
    "## Model Building\n",
    "\n",
    "### Now, let's build our model. With numerous variables in the dataset, we need a focused approach. We'll use Recursive Feature Elimination (RFE) to pick a handful of important features for our model"
   ]
  },
  {
   "cell_type": "code",
   "execution_count": null,
   "id": "94250bbe-ad0a-433c-9a29-fcb673eec2a6",
   "metadata": {},
   "outputs": [],
   "source": []
  },
  {
   "cell_type": "code",
   "execution_count": null,
   "id": "2150b5a2-a741-4474-b1d8-3d6b0c7b2f58",
   "metadata": {},
   "outputs": [],
   "source": [
    "# Import Libraries\n",
    "\n",
    "from sklearn.linear_model import LogisticRegression\n",
    "logreg = LogisticRegression()"
   ]
  },
  {
   "cell_type": "code",
   "execution_count": null,
   "id": "ffcff836-de94-42d2-893b-dfe5f835030e",
   "metadata": {},
   "outputs": [],
   "source": [
    "# Import RFE\n",
    "from sklearn.feature_selection import RFE"
   ]
  },
  {
   "cell_type": "code",
   "execution_count": null,
   "id": "48e71cf4-fb63-4d8a-9402-da2618f347e8",
   "metadata": {},
   "outputs": [],
   "source": [
    "# Running RFE with 15 variables as output\n",
    "rfe = RFE(logreg, n_features_to_select=15)            \n",
    "rfe = rfe.fit(X_train, y_train)"
   ]
  },
  {
   "cell_type": "code",
   "execution_count": null,
   "id": "b1a7a537-55de-43c9-a4b3-7be1631b1d64",
   "metadata": {},
   "outputs": [],
   "source": [
    "# Features that have been selected by RFE\n",
    "list(zip(X_train.columns, rfe.support_, rfe.ranking_))"
   ]
  },
  {
   "cell_type": "code",
   "execution_count": null,
   "id": "72e474e8-6b74-41f8-86d8-168d71e89d52",
   "metadata": {},
   "outputs": [],
   "source": [
    "\n",
    "# columns which are selected by RFE\n",
    "rfe_col = X_train.columns[rfe.support_]\n",
    "rfe_col"
   ]
  },
  {
   "cell_type": "code",
   "execution_count": null,
   "id": "6eff1012-4f9c-4e61-b4d7-952ddde5faa4",
   "metadata": {},
   "outputs": [],
   "source": [
    "# Defined function for calculating VIFs for variables\n",
    "def get_vif(model_df):\n",
    "    X = pd.DataFrame()\n",
    "    X['Features'] = model_df.columns\n",
    "    X['VIF'] = [variance_inflation_factor(model_df.values, i) for i in range(model_df.shape[1])]\n",
    "    X['VIF'] = round(X['VIF'], 2)\n",
    "    X = X.sort_values(by='VIF', ascending=False)\n",
    "    X = X.reset_index(drop=True)\n",
    "    return X"
   ]
  },
  {
   "cell_type": "markdown",
   "id": "4223fc64-c3c3-4bdd-9c7f-1f488e25871f",
   "metadata": {},
   "source": [
    "#### Model - 1"
   ]
  },
  {
   "cell_type": "code",
   "execution_count": null,
   "id": "7277414e-528e-472f-8ef0-d689e6a04616",
   "metadata": {},
   "outputs": [],
   "source": [
    "# Building model using statsmodels, for the detailed statistics\n",
    "\n",
    "# columns selected by RFE to be used for this model \n",
    "rfe_col=X_train.columns[rfe.support_]\n",
    "\n",
    "# Creating X_train dataframe with variables selected by RFE\n",
    "X_train_rfe = X_train[rfe_col]\n",
    "\n",
    "# Adding a constant variable \n",
    "X_train_sm1 = sm.add_constant(X_train_rfe)\n",
    "\n",
    "# Create a fitted model\n",
    "logm1 = sm.GLM(y_train,X_train_sm1,family = sm.families.Binomial()).fit()  \n",
    "\n",
    "logm1.params"
   ]
  },
  {
   "cell_type": "code",
   "execution_count": null,
   "id": "9649f1e2-4e89-4d66-8703-fec7f4ca981d",
   "metadata": {},
   "outputs": [],
   "source": [
    "#The summary of our logistic regression model\n",
    "print(logm1.summary())"
   ]
  },
  {
   "cell_type": "markdown",
   "id": "4f978c6f-287a-4dde-8bf1-3924f03ec07f",
   "metadata": {},
   "source": [
    "##### 'What is your current occupation_Housewife' column has a high p-value of 0.999, The accepted threshold of is 0.05 for statistical significance.So the column will be dropped"
   ]
  },
  {
   "cell_type": "code",
   "execution_count": null,
   "id": "1501bf35-0752-411a-9328-4d4f8414f0c2",
   "metadata": {},
   "outputs": [],
   "source": [
    "# Dropping 'What is your current occupation_Housewife' colum\n",
    "rfe_col=rfe_col.drop('What is your current occupation_Housewife')"
   ]
  },
  {
   "cell_type": "code",
   "execution_count": null,
   "id": "a38d6805-055a-4078-8ac7-bc6cde924909",
   "metadata": {},
   "outputs": [],
   "source": []
  },
  {
   "cell_type": "markdown",
   "id": "516ad14e-cfe5-4c2d-9b31-d2c8f4367fc7",
   "metadata": {},
   "source": [
    "#### Model - 2"
   ]
  },
  {
   "cell_type": "code",
   "execution_count": null,
   "id": "eb1a5cc3-c6f5-4b82-a280-d0a79d8de2e8",
   "metadata": {},
   "outputs": [],
   "source": [
    "# Creating X_train dataframe with variables selected by RFE\n",
    "X_train_rfe = X_train[rfe_col]\n",
    "\n",
    "# Adding a constant variable \n",
    "X_train_sm2 = sm.add_constant(X_train_rfe)\n",
    "\n",
    "# Create a fitted model\n",
    "logm2 = sm.GLM(y_train,X_train_sm2,family = sm.families.Binomial()).fit()  \n",
    "\n",
    "logm2.params"
   ]
  },
  {
   "cell_type": "code",
   "execution_count": null,
   "id": "06bbcffe-803b-49fb-b2bd-48284220f0e9",
   "metadata": {},
   "outputs": [],
   "source": [
    "#The summary of our logistic regression model\n",
    "print(logm2.summary())"
   ]
  },
  {
   "cell_type": "markdown",
   "id": "9eb32bc0-c5bb-48fd-8618-0ea2164cc05f",
   "metadata": {},
   "source": [
    "##### \"Lead Source_Others\"olumn has a p-value of 0.070, The accepted threshold of is 0.05 for statistical significance.So the column will be dropped"
   ]
  },
  {
   "cell_type": "code",
   "execution_count": null,
   "id": "ff54554b-b335-4b53-902d-6a762722782b",
   "metadata": {},
   "outputs": [],
   "source": [
    "# Dropping 'Lead Source_Others' colum\n",
    "rfe_col=rfe_col.drop('Lead Source_Others')"
   ]
  },
  {
   "cell_type": "markdown",
   "id": "bdc0bb9e-944d-4f1b-ad39-2ce6611775d3",
   "metadata": {},
   "source": [
    "### Model - 3"
   ]
  },
  {
   "cell_type": "code",
   "execution_count": null,
   "id": "14d235d3-273a-4c1c-b30d-12e9694f1cbe",
   "metadata": {},
   "outputs": [],
   "source": [
    "# Creating X_train dataframe with variables selected by RFE\n",
    "X_train_rfe = X_train[rfe_col]\n",
    "\n",
    "# Adding a constant variable \n",
    "X_train_sm3 = sm.add_constant(X_train_rfe)\n",
    "\n",
    "# Create a fitted model\n",
    "logm3 = sm.GLM(y_train,X_train_sm3,family = sm.families.Binomial()).fit()  \n",
    "\n",
    "logm3.params"
   ]
  },
  {
   "cell_type": "code",
   "execution_count": null,
   "id": "16967682-fc36-4632-8909-ac205f608928",
   "metadata": {},
   "outputs": [],
   "source": [
    "# The summary of our logistic regression model\n",
    "print(logm3.summary())"
   ]
  },
  {
   "cell_type": "markdown",
   "id": "0bfa177a-6363-4f39-a57e-51bb7f454c4f",
   "metadata": {},
   "source": [
    "### Model 3 is stable and has significant p-values within the threshold (p-values < 0.05), so we will use it for further analysis.\n"
   ]
  },
  {
   "cell_type": "markdown",
   "id": "f486a385-4782-49dd-8f22-d0a28919ac80",
   "metadata": {},
   "source": [
    "### Next, we'll calculate VIFs for the remaining variables to assess multicollinearity, evaluating how much variance inflation occurs due to correlations among the independent variables."
   ]
  },
  {
   "cell_type": "code",
   "execution_count": null,
   "id": "38320af3-bd32-4815-a248-d858a4ecf9a8",
   "metadata": {},
   "outputs": [],
   "source": [
    "# Now checking VIFs for all variables in the Model 3 \n",
    "get_vif(X_train_rfe)"
   ]
  },
  {
   "cell_type": "markdown",
   "id": "1e323004-7aa5-49b3-add2-cc94511cd82d",
   "metadata": {},
   "source": [
    "#### No variable needs to be dropped because they all have VIF values within the threshold(<5).\n",
    "\n",
    "#### p-values for all variables is less than 0.05\n",
    "#### This model looks acceptable as every condition is satisfied (p-values & VIFs).\n",
    "#### So we will final our Model 3 for Model Evaluation."
   ]
  },
  {
   "cell_type": "markdown",
   "id": "ed699e63-9612-419e-bff7-0c2e88edd8df",
   "metadata": {},
   "source": [
    "### Evaluation and Prediction\n",
    "\n",
    "##### We will take the below mentioned list for Evaluation and Prediction\n",
    "\n",
    "- Confusion Matrix\n",
    "- Accuracy\n",
    "- Sensitivity and Specificity\n",
    "- Threshold determination using ROC & Finding Optimal cutoff point\n",
    "- Precision and Recall"
   ]
  },
  {
   "cell_type": "code",
   "execution_count": null,
   "id": "08d5d247-f25b-4611-93c2-fe3b79fb3a63",
   "metadata": {},
   "outputs": [],
   "source": [
    "# predicted values on the train set\n",
    "y_train_pred = logm3.predict(X_train_sm3) "
   ]
  },
  {
   "cell_type": "code",
   "execution_count": null,
   "id": "74189617-d71d-438c-b726-0f1bfd643f99",
   "metadata": {},
   "outputs": [],
   "source": [
    "# Reshaping to an array\n",
    "y_train_pred = y_train_pred.values.reshape(-1)\n",
    "y_train_pred[:10]"
   ]
  },
  {
   "cell_type": "code",
   "execution_count": null,
   "id": "99921dd2-3cdd-4a7d-bedd-42b89f0e7005",
   "metadata": {},
   "outputs": [],
   "source": [
    "# Creating a dataframe with the actual churn flag and the predicted probabilities\n",
    "\n",
    "y_train_pred_final = pd.DataFrame({'Converted':y_train.values, 'Converted_Prob':y_train_pred})\n",
    "y_train_pred_final['Prospect ID'] = y_train.index\n",
    "y_train_pred_final.head()\n",
    "\n",
    "# y_train.values actual Converted values from df_leads dataset\n",
    "# y_train_pred probability of Converted values predicted by model"
   ]
  },
  {
   "cell_type": "markdown",
   "id": "f443409b-de7a-4ed1-bec7-ab72fae9eb27",
   "metadata": {},
   "source": [
    "##### We have to find the optimal cutoff Threshold value of Probability. Let's start with default 0.5 value and add a new feature predicted in above dataframe using the probabilities"
   ]
  },
  {
   "cell_type": "code",
   "execution_count": null,
   "id": "423eb144-789b-4a80-a85a-46ef4c969004",
   "metadata": {},
   "outputs": [],
   "source": [
    "# Substituting 0 or 1 with the cut off as 0.5\n",
    "y_train_pred_final['Predicted'] = y_train_pred_final.Converted_Prob.map(lambda x: 1 if x > 0.5 else 0)\n",
    "y_train_pred_final.head()"
   ]
  },
  {
   "cell_type": "markdown",
   "id": "76741f54-f9a8-4447-acba-3d4f45c75b24",
   "metadata": {},
   "source": [
    "##### 1. Confusion Matrix"
   ]
  },
  {
   "cell_type": "code",
   "execution_count": null,
   "id": "acdb8c91-1acf-47d8-beea-0faf04196b69",
   "metadata": {},
   "outputs": [],
   "source": [
    "# Creating confusion matrix \n",
    "from sklearn import metrics\n",
    "confusion = metrics.confusion_matrix(y_train_pred_final.Converted, y_train_pred_final.Predicted )\n",
    "print ('Confusion Matrix\\n' ,confusion)"
   ]
  },
  {
   "cell_type": "markdown",
   "id": "d521550f-146d-44c4-847a-1e82723c7227",
   "metadata": {},
   "source": [
    "##### 2.Accuracy"
   ]
  },
  {
   "cell_type": "code",
   "execution_count": null,
   "id": "ed246ea5-0601-481a-b413-7398189c9efa",
   "metadata": {},
   "outputs": [],
   "source": [
    "# Check the overall accuracy\n",
    "print ('Accuracy\\n', metrics.accuracy_score(y_train_pred_final.Converted, y_train_pred_final.Predicted))"
   ]
  },
  {
   "cell_type": "markdown",
   "id": "d62fd3e6-2efa-486a-b083-facc5c34c1fb",
   "metadata": {},
   "source": [
    "##### NOTE : Almost 81% accuracy"
   ]
  },
  {
   "cell_type": "markdown",
   "id": "1a031f5d-3058-4d3b-9b36-48b38c7ccd0f",
   "metadata": {},
   "source": [
    "##### Sensitivity and Specificity\n"
   ]
  },
  {
   "cell_type": "code",
   "execution_count": null,
   "id": "fe993004-a0ab-4783-95c0-a91c8f7027b5",
   "metadata": {},
   "outputs": [],
   "source": [
    "# Substituting the value of true positive\n",
    "TP = confusion[1,1]\n",
    "# Substituting the value of true negatives\n",
    "TN = confusion[0,0]\n",
    "# Substituting the value of false positives\n",
    "FP = confusion[0,1] \n",
    "# Substituting the value of false negatives\n",
    "FN = confusion[1,0]"
   ]
  },
  {
   "cell_type": "code",
   "execution_count": null,
   "id": "fc1079be-b966-46af-949d-95d664f301da",
   "metadata": {},
   "outputs": [],
   "source": [
    "# Calculating the sensitivity\n",
    "print('Sensitivity\\n',TP/(TP+FN))"
   ]
  },
  {
   "cell_type": "code",
   "execution_count": null,
   "id": "24c25489-be46-4e29-90a5-c82a604afb85",
   "metadata": {},
   "outputs": [],
   "source": [
    "# Calculating the specificity\n",
    "print('Specificity\\n',TN/(TN+FP))"
   ]
  },
  {
   "cell_type": "markdown",
   "id": "f8173de7-b6cd-4feb-824a-7d78707f5d5c",
   "metadata": {},
   "source": [
    "##### With the cut off of 0.5 we have approx. \n",
    " 1. Accuracy = 81%\n",
    " 2. Sensitivity = 67%\n",
    " 3. Specificity = 90%"
   ]
  },
  {
   "cell_type": "code",
   "execution_count": null,
   "id": "f65fede6-fdc8-4d26-88dd-90b43846077d",
   "metadata": {},
   "outputs": [],
   "source": [
    "# Calculate false postive rate - predicting conversion when customer does not have converted\n",
    "print('False postive rate - predicting conversion when customer does not have converted:',FP/ float(TN+FP))"
   ]
  },
  {
   "cell_type": "code",
   "execution_count": null,
   "id": "b3fac9ac-0aba-466f-870a-9110b5c8668e",
   "metadata": {},
   "outputs": [],
   "source": [
    "# positive predictive value \n",
    "print ('Positive predictive value:',TP / float(TP+FP))"
   ]
  },
  {
   "cell_type": "code",
   "execution_count": null,
   "id": "0cfd4046-f416-48b1-aee0-734552820138",
   "metadata": {},
   "outputs": [],
   "source": [
    "# Negative predictive value\n",
    "print ('Negative predictive value:',TN / float(TN+ FN))"
   ]
  },
  {
   "cell_type": "code",
   "execution_count": null,
   "id": "f91fd285-08b2-4f14-9ad1-ec7a0bf9b6ae",
   "metadata": {},
   "outputs": [],
   "source": []
  },
  {
   "cell_type": "markdown",
   "id": "0bbfe59a-ac25-4cae-8d01-90f3fe57fd33",
   "metadata": {},
   "source": [
    "##### Threshold determination using ROC & Finding Optimal cutoff point\n",
    "\n",
    "A ROC (Receiver Operating Characteristic) curve is a graph that shows how well a model can distinguish between two things (e.g., positive and negative outcomes). It helps visualize the trade-off between correctly identifying true positives and incorrectly identifying false positives at different decision thresholds. The closer the curve is to the top-left corner, the better the model performs.\n"
   ]
  },
  {
   "cell_type": "code",
   "execution_count": null,
   "id": "86ef62bc-95ad-4dcd-969c-5fa753d71598",
   "metadata": {},
   "outputs": [],
   "source": [
    "# ROC function\n",
    "def draw_roc( actual, probs ):\n",
    "    fpr, tpr, thresholds = metrics.roc_curve( actual, probs,drop_intermediate = False )\n",
    "    auc_score = metrics.roc_auc_score( actual, probs )\n",
    "    plt.figure(figsize=(5, 5))\n",
    "    plt.plot( fpr, tpr, label='ROC curve (area = %0.2f)' % auc_score )\n",
    "    plt.plot([0, 1], [0, 1], 'k--')\n",
    "    plt.xlim([0.0, 1.0])\n",
    "    plt.ylim([0.0, 1.05])\n",
    "    plt.xlabel('False Positive Rate or [1 - True Negative Rate]')\n",
    "    plt.ylabel('True Positive Rate')\n",
    "    plt.title('Receiver operating characteristic example')\n",
    "    plt.legend(loc=\"lower right\")\n",
    "    plt.show()\n",
    "\n",
    "    return None"
   ]
  },
  {
   "cell_type": "code",
   "execution_count": null,
   "id": "c76db70e-aed2-4737-a0b8-09281afd0124",
   "metadata": {},
   "outputs": [],
   "source": [
    "fpr, tpr, thresholds = metrics.roc_curve( y_train_pred_final.Converted, y_train_pred_final.Converted_Prob, drop_intermediate = False )"
   ]
  },
  {
   "cell_type": "code",
   "execution_count": null,
   "id": "1a8d59fa-8810-4d6c-93d2-d17a734fc643",
   "metadata": {},
   "outputs": [],
   "source": [
    "draw_roc(y_train_pred_final.Converted, y_train_pred_final.Converted_Prob)"
   ]
  },
  {
   "cell_type": "markdown",
   "id": "ef7d7731-1d8c-4a61-b5c8-ec9d2016f529",
   "metadata": {},
   "source": [
    "#### The area under ROC curve is 0.88 which indicates good predictive model"
   ]
  },
  {
   "cell_type": "markdown",
   "id": "3cc34d26-5524-4f24-94b2-31fc8680b893",
   "metadata": {},
   "source": [
    "##### Finding Optimal Cutoff Point"
   ]
  },
  {
   "cell_type": "code",
   "execution_count": null,
   "id": "1654b317-2e99-486e-a252-0f594b043fe5",
   "metadata": {},
   "outputs": [],
   "source": [
    "# Creating columns with different probability cutoffs \n",
    "num = [float(x)/10 for x in range(10)]\n",
    "for i in num:\n",
    "  y_train_pred_final[i]= y_train_pred_final['Converted_Prob'].map(lambda x: 1 if x > i else 0)\n",
    "y_train_pred_final.head()"
   ]
  },
  {
   "cell_type": "code",
   "execution_count": null,
   "id": "aea39e20-b534-4abc-9f93-75389861f632",
   "metadata": {},
   "outputs": [],
   "source": [
    "# Now let's calculate accuracy sensitivity and specificity for various probability cutoffs.\n",
    "cutoff_df = pd.DataFrame( columns = ['prob','accuracy','sensi','speci'])\n",
    "\n",
    "\n",
    "num = [0.0,0.1,0.2,0.3,0.4,0.5,0.6,0.7,0.8,0.9]\n",
    "for i in num:\n",
    "    cm1 = metrics.confusion_matrix(y_train_pred_final[\"Converted\"], y_train_pred_final[i] )\n",
    "    total1=sum(sum(cm1))\n",
    "    accuracy = (cm1[0,0]+cm1[1,1])/total1\n",
    "    \n",
    "    speci = cm1[0,0]/(cm1[0,0]+cm1[0,1])\n",
    "    sensi = cm1[1,1]/(cm1[1,0]+cm1[1,1])\n",
    "    cutoff_df.loc[i] =[ i ,accuracy,sensi,speci]\n",
    "cutoff_df"
   ]
  },
  {
   "cell_type": "code",
   "execution_count": null,
   "id": "1e0f3907-6c03-494f-bcbd-e88b3434c235",
   "metadata": {},
   "outputs": [],
   "source": [
    "from scipy.interpolate import interp1d\n",
    "from scipy.optimize import fsolve\n",
    "interp_funcs = {col: interp1d(cutoff_df['prob'], cutoff_df[col], kind='linear') for col in ['sensi', 'accuracy', 'speci']}\n",
    "\n",
    "# Find intersection points\n",
    "intersection_x = np.round(float(fsolve(lambda x: interp_funcs['sensi'](x) - interp_funcs['accuracy'](x), 0.5)), 3)\n",
    "\n",
    "plt.rcParams['figure.figsize'] = (6, 4)\n",
    "\n",
    "\n",
    "# Plot accuracy, sensitivity, and specificity curves\n",
    "ax = cutoff_df.plot.line(x='prob', y=['accuracy', 'sensi', 'speci'])\n",
    "\n",
    "# Add vertical and horizontal lines at the intersection point\n",
    "ax.axvline(x=intersection_x, color='grey', linewidth=0.55, linestyle='--')\n",
    "ax.axhline(y=interp_funcs['accuracy'](intersection_x), color='grey', linewidth=0.55, linestyle='--')\n",
    "\n",
    "# Annotate the intersection point on the plot\n",
    "ax.annotate(f'Intersection: ({intersection_x}, {interp_funcs[\"accuracy\"](intersection_x):.2f})',\n",
    "             xy=(intersection_x, interp_funcs['accuracy'](intersection_x)),\n",
    "             xytext=(0, 20),\n",
    "             textcoords='offset points',\n",
    "             ha='center',\n",
    "             fontsize=9)\n",
    "\n",
    "# Adjust spacing between subplots\n",
    "plt.subplots_adjust(left=0.1, right=0.9, top=0.9, bottom=0.1)\n",
    "\n",
    "# Display the plot\n",
    "plt.show()"
   ]
  },
  {
   "cell_type": "markdown",
   "id": "57cc0677-a2c5-45d6-bb65-14a9bc0a0d2b",
   "metadata": {},
   "source": [
    "#### From the graph it can be said that the optimal cut off is at 0.347"
   ]
  },
  {
   "cell_type": "code",
   "execution_count": null,
   "id": "620beb8d-78f4-466c-91c1-c866a75511cb",
   "metadata": {},
   "outputs": [],
   "source": [
    "y_train_pred_final['final_predicted'] = y_train_pred_final.Converted_Prob.map( lambda x: 1 if x > 0.347 else 0)\n",
    "y_train_pred_final.head()"
   ]
  },
  {
   "cell_type": "markdown",
   "id": "d9d60c0b-487d-405e-a045-c6a5a1d01170",
   "metadata": {},
   "source": [
    "#### Calculating all metrics using confusion matrix for Train"
   ]
  },
  {
   "cell_type": "code",
   "execution_count": null,
   "id": "51d4c7ff-d845-42ad-8dd9-9c79d4126142",
   "metadata": {},
   "outputs": [],
   "source": [
    "#  User-Defined Function\n",
    "\n",
    "def logreg_all_metrics(confusion_matrix):\n",
    "    TN =confusion_matrix[0,0]\n",
    "    TP =confusion_matrix[1,1]\n",
    "    FP =confusion_matrix[0,1]\n",
    "    FN =confusion_matrix[1,0]\n",
    "    \n",
    "    accuracy = (TN+TP)/(TN+TP+FN+FP)\n",
    "    sensi = TP/(TP+FN)\n",
    "    speci = TN/(TN+FP)\n",
    "    precision = TP/(TP+FP)\n",
    "    recall = TP/(TP+FN)\n",
    "    TPR = TP/(TP + FN)\n",
    "    TNR = TN/(TN + FP)\n",
    "    \n",
    "    #Calculate false postive rate - predicting conversion when customer does not have converted\n",
    "    FPR = FP/(FP + TN)     \n",
    "    FNR = FN/(FN +TP)\n",
    "    \n",
    "    print (\"True Negative                    : \", TN)\n",
    "    print (\"True Positive                    : \", TP)\n",
    "    print (\"False Negative                   : \", FN)\n",
    "    print (\"False Positve                    : \", FP) \n",
    "    \n",
    "    print (\"Model Accuracy                   : \", round(accuracy,4))\n",
    "    print (\"Model Sensitivity                : \", round(sensi,4))\n",
    "    print (\"Model Specificity                : \", round(speci,4))\n",
    "    print (\"Model Precision                  : \", round(precision,4))\n",
    "    print (\"Model Recall                     : \", round(recall,4))\n",
    "    print (\"Model True Positive Rate (TPR)   : \", round(TPR,4))\n",
    "    print (\"Model False Positive Rate (FPR)  : \", round(FPR,4))\n",
    "    "
   ]
  },
  {
   "cell_type": "code",
   "execution_count": null,
   "id": "10c70be1-3a6e-46e2-a666-44ab14ea0a94",
   "metadata": {},
   "outputs": [],
   "source": [
    "# Finding Confusion metrics for 'y_train_pred_final' df\n",
    "confusion_matrix = metrics.confusion_matrix(y_train_pred_final['Converted'], y_train_pred_final['final_predicted'])\n",
    "print('\\n')\n",
    "\n",
    "print(\"Confusion Matrix\")\n",
    "print(confusion_matrix,\"\\n\")\n",
    "\n",
    "print('\\n')\n",
    "\n",
    "# Using UDF to calculate all metrices of logistic regression\n",
    "logreg_all_metrics(confusion_matrix)\n",
    "\n",
    "print(\"\\n\")\n"
   ]
  },
  {
   "cell_type": "markdown",
   "id": "6de5d38b-fa79-4c63-abc5-d6bf58ad249a",
   "metadata": {},
   "source": [
    "## With the cut off of 0.347 we have\n",
    " 1. Accuracy = 80.6%\n",
    " 2. Sensitivity = 80.21%\n",
    " 3. Specificity = 80.83%"
   ]
  },
  {
   "cell_type": "markdown",
   "id": "99d5539a-c28c-41dd-a312-2851c32e31ef",
   "metadata": {},
   "source": [
    "## Precision And Recall"
   ]
  },
  {
   "cell_type": "code",
   "execution_count": null,
   "id": "fd4c79d5-9e53-41ac-afb8-167a2332e613",
   "metadata": {},
   "outputs": [],
   "source": [
    "#TRADE OFF\n",
    "\n",
    "from sklearn.metrics import precision_recall_curve\n",
    "y_train_pred_final.Converted, y_train_pred_final.Predicted\n",
    "p, r, thresholds = precision_recall_curve(y_train_pred_final.Converted, y_train_pred_final.Converted_Prob)\n",
    "\n",
    "intersection_index = next(i for i, (precision, recall) in enumerate(zip(p, r)) if precision == recall)\n",
    "intersection_threshold = thresholds[intersection_index]\n",
    "\n",
    "plt.figure(figsize=(5, 4))\n",
    "plt.plot(thresholds, p[:-1], \"g-\", label=\"Precision\")\n",
    "plt.plot(thresholds, r[:-1], \"r-\", label=\"Recall\")\n",
    "plt.scatter([intersection_threshold], [p[intersection_index]], c='b', marker='o', label=\"Intersection Point\")\n",
    "\n",
    "# Annotate the intersection point\n",
    "plt.annotate(f': {intersection_threshold:.2f}',\n",
    "             xy=(intersection_threshold, p[intersection_index]),\n",
    "             xytext=(intersection_threshold + 0.1, p[intersection_index] - 0.1),\n",
    "             arrowprops=dict(facecolor='black', shrink=0.05))\n",
    "\n",
    "\n",
    "plt.xlabel(\"Threshold\")\n",
    "plt.ylabel(\"Score\")\n",
    "\n",
    "\n",
    "plt.show()"
   ]
  },
  {
   "cell_type": "markdown",
   "id": "e1a77ca4-3aa3-4201-a870-31061202dcc6",
   "metadata": {},
   "source": [
    "##### NOTE : The intersection point on the curve represents the threshold where the model strikes a balance between precision and recall. This threshold, approximately 0.41 in our case, can be crucial for optimizing the model's performance based on specific business requirements."
   ]
  },
  {
   "cell_type": "code",
   "execution_count": null,
   "id": "1530ffda-d31c-4d62-96e8-aa4298706c65",
   "metadata": {},
   "outputs": [],
   "source": [
    "# copying df to test model evaluation with precision recall threshold of 0.41\n",
    "y_train_precision_recall = y_train_pred_final.copy()\n",
    "\n",
    "\n",
    "# assigning a feature for 0.41 cutoff from precision recall curve to see which one is best view (sensi-speci or precision-recall)\n",
    "y_train_precision_recall['precision_recall_prediction'] = y_train_precision_recall['Converted_Prob'].map( lambda x: 1 if x > 0.41 else 0)\n",
    "y_train_precision_recall.head()"
   ]
  },
  {
   "cell_type": "code",
   "execution_count": null,
   "id": "d914784f-e426-417c-8347-fe08fc862764",
   "metadata": {},
   "outputs": [],
   "source": [
    "## Lets see all matrics at 0.41 cutoff in precision-recall view and compare it with 0.347 cutoff from sensi-speci view\n",
    "\n",
    "# Finding Confusion metrics for 'y_train_precision_recall' df\n",
    "confusion_matrix = metrics.confusion_matrix(y_train_precision_recall['Converted'], y_train_precision_recall['precision_recall_prediction'])\n",
    "print('\\n')\n",
    "\n",
    "#\n",
    "print(\"Confusion Matrix\")\n",
    "print(confusion_matrix,\"\\n\")\n",
    "\n",
    "print('\\n')\n",
    "\n",
    "# Using UDF to calculate all metrices of logistic regression\n",
    "logreg_all_metrics(confusion_matrix)\n",
    "\n",
    "print(\"\\n\")\n"
   ]
  },
  {
   "cell_type": "markdown",
   "id": "9ceb5b28-76b5-4772-b7b0-e72de3f893be",
   "metadata": {},
   "source": [
    "##### NOTE:\n",
    "\n",
    "##### As we can see in above metrics when we used precision-recall threshold cut-off of 0.41 the values in True Positive Rate ,Sensitivity, Recall have dropped to around 76%, but we need it close to 80% as the Business Objective. Which we are getting with the sensitivity-specificity cut-off threshold of 0.347. So, we will go with sensitivity-specificity view for our Optimal cut-off for final predictions."
   ]
  },
  {
   "cell_type": "markdown",
   "id": "2f2f2524-c59d-4ba6-b34e-f06ed33145fb",
   "metadata": {},
   "source": [
    "### Adding Lead Score to Training set\n",
    " - A higher score would mean that the lead is most likely to convert.\n",
    "\n",
    "   \n",
    " - Whereas a lower score would mean that the lead is most likely not convert."
   ]
  },
  {
   "cell_type": "code",
   "execution_count": null,
   "id": "8429bacb-e5c8-4bc1-bd19-249eaf1cf2b1",
   "metadata": {},
   "outputs": [],
   "source": [
    "# Lets add Lead Score \n",
    "\n",
    "y_train_pred_final['Lead_Score'] = y_train_pred_final['Converted_Prob'].map( lambda x: round(x*100))\n",
    "y_train_pred_final.head()"
   ]
  },
  {
   "cell_type": "markdown",
   "id": "8c5f19ca-7397-4514-b735-98c19f680acc",
   "metadata": {},
   "source": [
    "### Prediction on Test set\n"
   ]
  },
  {
   "cell_type": "markdown",
   "id": "cb0a6aed-3713-4861-9d4e-85fcf7d46dd7",
   "metadata": {},
   "source": [
    "##### Scaling "
   ]
  },
  {
   "cell_type": "code",
   "execution_count": null,
   "id": "57ef28f9-97ad-4597-b4f2-9f9f56e1b0d0",
   "metadata": {},
   "outputs": [],
   "source": [
    "\n",
    "num_cols=X_test.select_dtypes(include=['int64','float64']).columns\n",
    "\n",
    "# scaling columns\n",
    "X_test[num_cols] = scaler.transform(X_test[num_cols])\n",
    "\n",
    "X_test = X_test[rfe_col]\n",
    "X_test.head()"
   ]
  },
  {
   "cell_type": "markdown",
   "id": "7872fb5d-3a3e-46a8-a9db-14721f74e1f1",
   "metadata": {},
   "source": [
    "###### Prediction on Test Dataset using final model"
   ]
  },
  {
   "cell_type": "code",
   "execution_count": null,
   "id": "64e60a11-e044-4742-8d01-f045498f5f07",
   "metadata": {},
   "outputs": [],
   "source": [
    "# Adding contant value\n",
    "X_test_sm = sm.add_constant(X_test)\n",
    "X_test_sm.shape"
   ]
  },
  {
   "cell_type": "code",
   "execution_count": null,
   "id": "b6d5cf92-ae73-46a7-af74-c4ade4ff0547",
   "metadata": {},
   "outputs": [],
   "source": [
    "# making prediction using model3\n",
    "y_test_pred = logm3.predict(X_test_sm)"
   ]
  },
  {
   "cell_type": "code",
   "execution_count": null,
   "id": "2576221b-d950-4ee2-bee0-0d740e91e8bb",
   "metadata": {},
   "outputs": [],
   "source": [
    "# top 10 columns\n",
    "y_test_pred[:10]"
   ]
  },
  {
   "cell_type": "code",
   "execution_count": null,
   "id": "86a800b7-f862-49a8-8a41-0ab7c332748c",
   "metadata": {},
   "outputs": [],
   "source": [
    "# Changing to dataframe\n",
    "y_test_pred = pd.DataFrame(y_test_pred)\n",
    "y_test_pred.head()"
   ]
  },
  {
   "cell_type": "code",
   "execution_count": null,
   "id": "1d68bc4a-49e8-4e55-9dd5-07263ca17d3e",
   "metadata": {},
   "outputs": [],
   "source": [
    "# Converting y_test to dataframe\n",
    "y_test_df = pd.DataFrame(y_test)\n",
    "y_test_df.head()"
   ]
  },
  {
   "cell_type": "code",
   "execution_count": null,
   "id": "75b69c7b-649a-4f41-b5ae-96b9c327037d",
   "metadata": {},
   "outputs": [],
   "source": [
    "# Making Prospect ID index\n",
    "y_test_df['Prospect ID'] = y_test_df.index\n",
    "\n",
    "# Removing index for both dataframes so we can append them side by side \n",
    "y_test_pred.reset_index(drop=True, inplace=True)\n",
    "y_test_df.reset_index(drop=True, inplace=True)\n",
    "\n",
    "# Appending y_test_df and y_test_pred\n",
    "y_pred_final = pd.concat([y_test_df, y_test_pred],axis=1)\n",
    "y_pred_final.head()"
   ]
  },
  {
   "cell_type": "code",
   "execution_count": null,
   "id": "5eb6ece2-de89-49de-b448-135a8d6ce0f7",
   "metadata": {},
   "outputs": [],
   "source": [
    "# Renaming\n",
    "y_pred_final= y_pred_final.rename(columns={ 0 : 'Converted_Prob'})\n",
    "\n",
    "# Rearranging\n",
    "y_pred_final = y_pred_final.reindex(['Prospect ID','Converted','Converted_Prob'], axis=1)\n",
    "\n",
    "y_pred_final.head()"
   ]
  },
  {
   "cell_type": "code",
   "execution_count": null,
   "id": "6ccbbba8-d013-4534-b2e6-e29fdea60f9f",
   "metadata": {},
   "outputs": [],
   "source": [
    "# taking sensitivity-specificity method at 0.347 probability cutoff during training\n",
    "y_pred_final['final_predicted'] = y_pred_final['Converted_Prob'].map(lambda x: 1 if x > 0.347 else 0)\n",
    "y_pred_final.head()"
   ]
  },
  {
   "cell_type": "code",
   "execution_count": null,
   "id": "e40d65a3-7303-4646-afc1-a4701a1b2770",
   "metadata": {},
   "outputs": [],
   "source": [
    "# Drawing ROC curve for Test Set\n",
    "fpr, tpr, thresholds = metrics.roc_curve(y_pred_final[\"Converted\"], y_pred_final[\"Converted_Prob\"], drop_intermediate = False )\n",
    "\n",
    "draw_roc(y_pred_final[\"Converted\"], y_pred_final[\"Converted_Prob\"])"
   ]
  },
  {
   "cell_type": "markdown",
   "id": "6fe6b311-6b51-4907-a23e-148504f5c475",
   "metadata": {},
   "source": [
    "##### Area under ROC curve is 0.87 out of 1 which indicates a good predictive model"
   ]
  },
  {
   "cell_type": "markdown",
   "id": "312fff63-c875-41c0-a954-bb3a8d94ab34",
   "metadata": {},
   "source": [
    "##### We will make final predictions by comparing the predicted labels (final_predicted) to the actual labels (Converted) to compute various performance metrics such as accuracy, precision, recall, etc."
   ]
  },
  {
   "cell_type": "markdown",
   "id": "65c7df08-c63f-412c-ad61-65f4f306001f",
   "metadata": {},
   "source": [
    "##### Model Evaluation on Test set"
   ]
  },
  {
   "cell_type": "code",
   "execution_count": null,
   "id": "e5335f11-28ed-48e6-8b31-cdc59f627d72",
   "metadata": {},
   "outputs": [],
   "source": [
    "# Finding Confusion metrics for 'y_train_pred_final' df\n",
    "confusion_matrix = metrics.confusion_matrix(y_pred_final['Converted'], y_pred_final['final_predicted'])\n",
    "print('\\n')\n",
    "\n",
    "#\n",
    "print(\"Confusion Matrix\")\n",
    "print(confusion_matrix,\"\\n\")\n",
    "\n",
    "print('\\n')\n",
    "\n",
    "# Using UDF to calculate all metrices of logistic regression\n",
    "logreg_all_metrics(confusion_matrix)\n",
    "\n",
    "print(\"\\n\")"
   ]
  },
  {
   "cell_type": "code",
   "execution_count": null,
   "id": "c9fd9954-1374-4ca4-ae4f-63888eb5c46c",
   "metadata": {},
   "outputs": [],
   "source": []
  },
  {
   "cell_type": "markdown",
   "id": "433ecb88-1df6-4c32-a974-4960541977ce",
   "metadata": {},
   "source": []
  },
  {
   "cell_type": "markdown",
   "id": "06ef9e5a-a226-47cd-93e6-0c1891a1b632",
   "metadata": {},
   "source": [
    "##### The evaluation matrics are pretty close to each other so it indicates that the model is performing consistently across different evaluation metrics in both test and train dataset.\n",
    "\n",
    "##### For Test set\n",
    "\n",
    "    \n",
    " 1. Accuracy = 80.48%\n",
    " 2. Sensitivity = 79.82% ≈ 80%\n",
    " 3. Specificity = 80.92%\n",
    "##### These matrics are very close to train set, so out final model logm3 is  performing with good consistency on both Train & Test setm"
   ]
  },
  {
   "cell_type": "code",
   "execution_count": null,
   "id": "e3347eaf-edf7-43ad-a7a6-5bd4b98b5765",
   "metadata": {},
   "outputs": [],
   "source": [
    "# features and their coefficicent from final model\n",
    "parameters=logm3.params.sort_values(ascending=False)\n",
    "parameters"
   ]
  },
  {
   "cell_type": "markdown",
   "id": "9ff3b88b-96b4-4489-8ee5-d9f92e71fb1b",
   "metadata": {},
   "source": [
    "##### A higher positive coefficient suggests a stronger influence of the variable in predicting the probability of leads converting to enroll in X-Education's course"
   ]
  },
  {
   "cell_type": "markdown",
   "id": "a89e6329-e407-4fb9-8cd4-74f5e218a74e",
   "metadata": {},
   "source": [
    "### Adding Lead Score to Training set\n",
    " - A higher score would mean that the lead is most likely to convert.\n",
    "\n",
    "   \n",
    " - Whereas a lower score would mean that the lead is most likely not convert."
   ]
  },
  {
   "cell_type": "code",
   "execution_count": null,
   "id": "2defcd29-9fd9-4260-9d6f-ccda1eebc2ae",
   "metadata": {},
   "outputs": [],
   "source": [
    "# Lets add Lead Score \n",
    "\n",
    "y_pred_final['Lead_Score'] = y_pred_final['Converted_Prob'].map( lambda x: round(x*100))\n",
    "y_pred_final.head()"
   ]
  },
  {
   "cell_type": "markdown",
   "id": "e9469838-a1d3-409c-8b5c-afc5c209b03a",
   "metadata": {},
   "source": [
    "##### Lead Score is assigned to the customers\n",
    "\n",
    "- The customers with a higher lead score will have a higher conversion chance\n",
    "- The customers with a lower lead score will have a lower conversion chance."
   ]
  },
  {
   "cell_type": "code",
   "execution_count": null,
   "id": "d2f347e0-de0d-4375-9aed-a75dedf5fe58",
   "metadata": {},
   "outputs": [],
   "source": []
  },
  {
   "cell_type": "markdown",
   "id": "29b1cd14-6c90-4765-b1fd-e772d7835813",
   "metadata": {},
   "source": [
    "### Conclusion\n",
    "Train - Test\n",
    "\n",
    "Train Data Set:\n",
    " 1. Accuracy = 80.6%\n",
    " 2. Sensitivity = 80.21%\n",
    " 3. Specificity = 80.83%\n",
    "    \n",
    "Test Data Set:\n",
    " 1. Accuracy = 80.48%\n",
    " 2. Sensitivity = 79.82% ≈ 80%\n",
    " 3. Specificity = 80.92%\n",
    "\n",
    "\n",
    "#### The evaluation matrics are pretty close to each other so it indicates that the model is performing consistently across different evaluation metrics in both test and train dataset.\n",
    "\n",
    "##### The model has a sensitivity of 80.05% in the train set and 79.82% in the test set, using a cut-off value of 0.347. The CEO of X Education had set a target sensitivity of around 80% which is achieved and the model also achieved an accuracy of 80.46%, which is in line with the study's objectives.\n",
    "\n",
    "\n",
    "### Model parameters\n",
    "The final Logistic Regression Model has 13 features\n",
    "\n",
    "Top 3 features that contributing positively to predicting hot leads in the model are:\n",
    "\n",
    "\n",
    "\n",
    "- Lead Source_Welingak Website\n",
    "\n",
    "- Lead Source_Reference\n",
    "\n",
    "- What is your current occupation_Working Professional\n",
    "\n",
    "\n",
    "#### Observations:\n",
    "\n",
    "1. Focus on features with positive coefficients for targeted marketing strategies.\n",
    "\n",
    "2. More budget can be spent on Welingak Website in terms of advertising ,marketing etc.\n",
    "\n",
    "3. Working professionals to be can be targeted as they have high conversion rate and will be able to pay high fees too as they are financially able.\n",
    "\n",
    "4. Areas with negative coefficients like 'Lead Origin_Landing Page Submission' should be analyzed and put more work on.  "
   ]
  },
  {
   "cell_type": "code",
   "execution_count": null,
   "id": "9b878196-d947-4154-a25a-445ddd6ab3ae",
   "metadata": {},
   "outputs": [],
   "source": []
  },
  {
   "cell_type": "code",
   "execution_count": null,
   "id": "3ccd4fe1-ad7f-464e-afd1-017fc516f4b5",
   "metadata": {},
   "outputs": [],
   "source": []
  },
  {
   "cell_type": "code",
   "execution_count": null,
   "id": "7257b31d-8c48-450a-b88a-87787c850618",
   "metadata": {},
   "outputs": [],
   "source": []
  },
  {
   "cell_type": "code",
   "execution_count": null,
   "id": "474cc17c-6943-4471-a7c9-fc1afd2c1cf8",
   "metadata": {},
   "outputs": [],
   "source": []
  },
  {
   "cell_type": "code",
   "execution_count": null,
   "id": "a9b22334-87b1-419d-8057-2f19499739af",
   "metadata": {},
   "outputs": [],
   "source": []
  },
  {
   "cell_type": "code",
   "execution_count": null,
   "id": "016cc433-2d2c-4741-818a-8fd761d61b10",
   "metadata": {},
   "outputs": [],
   "source": []
  },
  {
   "cell_type": "code",
   "execution_count": null,
   "id": "41609c79-e5bf-4e67-8c4e-7dbf4d6ae963",
   "metadata": {},
   "outputs": [],
   "source": []
  },
  {
   "cell_type": "code",
   "execution_count": null,
   "id": "5d4de63f-cf4b-4d02-a18c-aa5026a9d67b",
   "metadata": {},
   "outputs": [],
   "source": []
  },
  {
   "cell_type": "code",
   "execution_count": null,
   "id": "ce706f42-a146-4ecc-bbf6-f6bc396eae15",
   "metadata": {},
   "outputs": [],
   "source": []
  },
  {
   "cell_type": "code",
   "execution_count": null,
   "id": "94bc631e-fae6-47e9-8dad-5092a24b359e",
   "metadata": {},
   "outputs": [],
   "source": []
  },
  {
   "cell_type": "code",
   "execution_count": null,
   "id": "c68a0419-289b-4032-b973-49329ea9b294",
   "metadata": {},
   "outputs": [],
   "source": []
  },
  {
   "cell_type": "code",
   "execution_count": null,
   "id": "f46d5ff4-de57-4994-9a8b-1093caa9a335",
   "metadata": {},
   "outputs": [],
   "source": []
  },
  {
   "cell_type": "code",
   "execution_count": null,
   "id": "68e5b52e-a456-4d6a-96cb-062ebd127d05",
   "metadata": {},
   "outputs": [],
   "source": []
  },
  {
   "cell_type": "code",
   "execution_count": null,
   "id": "0efee35c-36ad-4ab3-b3fd-86e1072d2df2",
   "metadata": {},
   "outputs": [],
   "source": []
  },
  {
   "cell_type": "code",
   "execution_count": null,
   "id": "bf96b8bd-8b77-4345-9e7a-5dff006ebdde",
   "metadata": {},
   "outputs": [],
   "source": []
  },
  {
   "cell_type": "code",
   "execution_count": null,
   "id": "1dc6aaa1-335f-4c81-8462-ee3432032a81",
   "metadata": {},
   "outputs": [],
   "source": []
  },
  {
   "cell_type": "code",
   "execution_count": null,
   "id": "f5f025b5-6dcc-453a-860d-6cfbf7f99df5",
   "metadata": {},
   "outputs": [],
   "source": []
  },
  {
   "cell_type": "code",
   "execution_count": null,
   "id": "610734f9-75c4-49fe-8133-8bd52db71b5c",
   "metadata": {},
   "outputs": [],
   "source": []
  },
  {
   "cell_type": "code",
   "execution_count": null,
   "id": "f66c22a1-6472-46e6-b28e-d6464e12129a",
   "metadata": {},
   "outputs": [],
   "source": []
  },
  {
   "cell_type": "code",
   "execution_count": null,
   "id": "ca4cfa83-e87f-4418-84ac-f4c8e0e31124",
   "metadata": {},
   "outputs": [],
   "source": []
  },
  {
   "cell_type": "code",
   "execution_count": null,
   "id": "0aa758b2-ee8f-44dc-b1d2-52264d53425d",
   "metadata": {},
   "outputs": [],
   "source": []
  },
  {
   "cell_type": "code",
   "execution_count": null,
   "id": "e6d734f4-d518-4012-b646-046e21ce808a",
   "metadata": {},
   "outputs": [],
   "source": [
    "\n"
   ]
  }
 ],
 "metadata": {
  "kernelspec": {
   "display_name": "Python 3 (ipykernel)",
   "language": "python",
   "name": "python3"
  },
  "language_info": {
   "codemirror_mode": {
    "name": "ipython",
    "version": 3
   },
   "file_extension": ".py",
   "mimetype": "text/x-python",
   "name": "python",
   "nbconvert_exporter": "python",
   "pygments_lexer": "ipython3",
   "version": "3.11.4"
  }
 },
 "nbformat": 4,
 "nbformat_minor": 5
}
